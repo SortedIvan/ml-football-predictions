{
 "cells": [
  {
   "cell_type": "markdown",
   "metadata": {},
   "source": [
    "> **<h1>Prediction of football game outcome, given the following csv (comma  seperated) files:**\n",
    "- Information about home/guest cards, player given a yellow/red card, etc.\n",
    "- Goals: time of scoring, goals per minute, number of goals per game\n",
    "- Players: player names & teams, goals scored, etc.\n",
    "- Football matches: containing information about different stadiums, game time, goals and teams, etc.\n",
    "- Subs\n",
    "\n",
    "The research/prediction study is conducted in the following matter:\n",
    "- Cleaning / researching & reading files\n",
    "- Counting values / plotting\n",
    "- Possible learn/award system for ML"
   ]
  },
  {
   "cell_type": "markdown",
   "metadata": {},
   "source": [
    "># **Data cleaning**"
   ]
  },
  {
   "cell_type": "markdown",
   "metadata": {},
   "source": [
    "># **Cards**"
   ]
  },
  {
   "cell_type": "markdown",
   "metadata": {},
   "source": [
    "For the dataset of cards, the round column would be unnecessary for the prediction of outcome."
   ]
  },
  {
   "cell_type": "code",
   "execution_count": 567,
   "metadata": {},
   "outputs": [],
   "source": [
    "import numpy as np\n",
    "import pandas as pd\n",
    "from IPython.display import display"
   ]
  },
  {
   "cell_type": "code",
   "execution_count": 568,
   "metadata": {},
   "outputs": [],
   "source": [
    "cards_raw = './_cards.csv'\n",
    "df_cardsRaw = pd.read_csv(cards_raw, sep=',')"
   ]
  },
  {
   "cell_type": "code",
   "execution_count": 569,
   "metadata": {},
   "outputs": [],
   "source": [
    "# Dropping round column\n",
    "df_cardsRaw.drop(['round', df_cardsRaw.columns[0]], axis=1, inplace=True)"
   ]
  },
  {
   "cell_type": "code",
   "execution_count": 570,
   "metadata": {},
   "outputs": [],
   "source": [
    "# Replacing: null values (int) = 0\n",
    "# null values (string) = \"\"\n",
    "df_cardsRaw['saison'].fillna(0, inplace = True)\n",
    "df_cardsRaw['home'].fillna(\" \", inplace = True)\n",
    "df_cardsRaw['away'].fillna(\" \", inplace = True)\n",
    "df_cardsRaw['team'].fillna(\" \", inplace = True)\n",
    "df_cardsRaw['player'].fillna(\" \", inplace = True)\n",
    "df_cardsRaw['minute'].fillna(0, inplace = True)\n",
    "df_cardsRaw['type'].fillna(0, inplace = True)"
   ]
  },
  {
   "cell_type": "code",
   "execution_count": 571,
   "metadata": {},
   "outputs": [],
   "source": [
    "# Replacing: [rode kaart = 1, gele kaart = 2, geelrode kaart = 3] for easier counting \n",
    "df_cardsRaw['type'].replace(to_replace=\"rode kaart\",value=\"Red\", inplace = True)\n",
    "df_cardsRaw['type'].replace(to_replace=\"gele kaart\",value=\"Yellow\", inplace = True)\n",
    "df_cardsRaw['type'].replace(to_replace=\"geelrode kaart\",value=\"YellowRed\", inplace = True)"
   ]
  },
  {
   "cell_type": "code",
   "execution_count": 572,
   "metadata": {},
   "outputs": [],
   "source": [
    "# Renaming all of the columns to the necessary names\n",
    "df_cardsRaw.rename(columns = ({'saison': 'season'}), inplace = True)\n",
    "df_cardsRaw.rename(columns = ({'saison': 'season', 'home': 'host', 'away': 'guest'}), inplace = True)\n",
    "\n",
    "# Sorting the minutes by ascending values\n",
    "df_cardsRaw.sort_values('minute', ascending=True, inplace = True)"
   ]
  },
  {
   "cell_type": "code",
   "execution_count": 573,
   "metadata": {},
   "outputs": [],
   "source": [
    "# Refactoring the names of the clubs\n",
    "df_cardsRaw['team'].replace(to_replace=\"excelsior-rotterdam\",value=\"sbv-excelsior\", inplace = True)\n",
    "df_cardsRaw['team'].replace(to_replace=\"willem-ii\",value=\"willem-ii-tilburg\", inplace = True)\n",
    "df_cardsRaw['team'].replace(to_replace=\"mvv\",value=\"mvv-maastricht\", inplace = True)\n",
    "df_cardsRaw['team'].replace(to_replace=\"vitesse\",value=\"vitesse-arnhem\", inplace = True)\n",
    "df_cardsRaw['team'].replace(to_replace=\"vitesse-arnheim\",value=\"vitesse-arnhem\", inplace = True)\n",
    "df_cardsRaw['team'].replace(to_replace=\"cambuur-leeuwarden\",value=\"sc-cambuur\", inplace = True)\n",
    "df_cardsRaw['team'].replace(to_replace=\"ajax-amsterdam\",value=\"afc-ajax\", inplace = True)\n",
    "df_cardsRaw['team'].replace(to_replace=\"feyenoord-rotterdam\",value=\"feyenoord\", inplace = True)\n",
    "df_cardsRaw['team'].replace(to_replace=\"go-ahead-eagles_2\",value=\"go-ahead-eagles\", inplace = True)"
   ]
  },
  {
   "cell_type": "code",
   "execution_count": 574,
   "metadata": {},
   "outputs": [
    {
     "name": "stdout",
     "output_type": "stream",
     "text": [
      "Stored 'df_cardsRaw' (DataFrame)\n"
     ]
    }
   ],
   "source": [
    "%store df_cardsRaw"
   ]
  },
  {
   "cell_type": "markdown",
   "metadata": {},
   "source": [
    "># **Goals**"
   ]
  },
  {
   "cell_type": "markdown",
   "metadata": {},
   "source": [
    "For the dataset of goals, it has been decided that the following columns are not valuable to make a proper game prediction:\n",
    "- Round column\n",
    "- Assists\n",
    "- Type of scored goals\n",
    "- New score after scoring a goal"
   ]
  },
  {
   "cell_type": "code",
   "execution_count": 575,
   "metadata": {},
   "outputs": [],
   "source": [
    "scoredGoals_raw = './_goals.csv'\n",
    "scoredGoals_df = pd.read_csv(scoredGoals_raw, sep=',')\n",
    "scoredGoals_df.drop(['round', 'assist', 'type', 'new_score', scoredGoals_df.columns[0]], axis = 1, inplace = True)\n",
    "scoredGoals_df['saison'].fillna(\" \", inplace = True)\n",
    "scoredGoals_df['home'].fillna(\" \", inplace = True)\n",
    "scoredGoals_df['away'].fillna(\" \", inplace = True)\n",
    "scoredGoals_df['team'].fillna(\" \", inplace = True)\n",
    "scoredGoals_df['player'].fillna(\" \", inplace = True)\n",
    "scoredGoals_df['minute'].fillna(\" \", inplace = True)\n",
    "scoredGoals_df.fillna({'Name':'.', 'City':'.'}, inplace=True)\n",
    "scoredGoals_df.rename(columns = ({'saison': 'season', 'home': 'host', 'away': 'guest'}), inplace = True)\n",
    "scoredGoals_df.sort_values('minute', ascending=True, inplace = True)"
   ]
  },
  {
   "cell_type": "code",
   "execution_count": 576,
   "metadata": {},
   "outputs": [],
   "source": [
    "# Refactoring the names of the clubs\n",
    "scoredGoals_df['team'].replace(to_replace=\"excelsior-rotterdam\",value=\"sbv-excelsior\", inplace = True)\n",
    "scoredGoals_df['team'].replace(to_replace=\"willem-ii\",value=\"willem-ii-tilburg\", inplace = True)\n",
    "scoredGoals_df['team'].replace(to_replace=\"mvv\",value=\"mvv-maastricht\", inplace = True)\n",
    "scoredGoals_df['team'].replace(to_replace=\"vitesse\",value=\"vitesse-arnhem\", inplace = True)\n",
    "scoredGoals_df['team'].replace(to_replace=\"vitesse-arnheim\",value=\"vitesse-arnhem\", inplace = True)\n",
    "scoredGoals_df['team'].replace(to_replace=\"cambuur-leeuwarden\",value=\"sc-cambuur\", inplace = True)\n",
    "scoredGoals_df['team'].replace(to_replace=\"ajax-amsterdam\",value=\"afc-ajax\", inplace = True)\n",
    "scoredGoals_df['team'].replace(to_replace=\"feyenoord-rotterdam\",value=\"feyenoord\", inplace = True)\n",
    "scoredGoals_df['team'].replace(to_replace=\"go-ahead-eagles_2\",value=\"go-ahead-eagles\", inplace = True)"
   ]
  },
  {
   "cell_type": "code",
   "execution_count": 577,
   "metadata": {},
   "outputs": [
    {
     "data": {
      "text/plain": [
       "32791"
      ]
     },
     "execution_count": 577,
     "metadata": {},
     "output_type": "execute_result"
    }
   ],
   "source": [
    "goalsScoredByHomeTeam_df = scoredGoals_df['player'].loc[scoredGoals_df['team'] == scoredGoals_df['host']].value_counts()\n",
    "goalsScoredByHomeTeam_df.sum()"
   ]
  },
  {
   "cell_type": "code",
   "execution_count": 578,
   "metadata": {},
   "outputs": [
    {
     "data": {
      "text/plain": [
       "22754"
      ]
     },
     "execution_count": 578,
     "metadata": {},
     "output_type": "execute_result"
    }
   ],
   "source": [
    "goalsScoredByGuestTeam_df = scoredGoals_df['player'].loc[scoredGoals_df['team'] == scoredGoals_df['guest']].value_counts()\n",
    "goalsScoredByGuestTeam_df.sum()"
   ]
  },
  {
   "cell_type": "code",
   "execution_count": 579,
   "metadata": {},
   "outputs": [
    {
     "data": {
      "text/plain": [
       "1     1295\n",
       "2     1086\n",
       "3      760\n",
       "4      595\n",
       "5      510\n",
       "6      471\n",
       "7      521\n",
       "8      484\n",
       "9      434\n",
       "10     573\n",
       "Name: minute, dtype: int64"
      ]
     },
     "execution_count": 579,
     "metadata": {},
     "output_type": "execute_result"
    }
   ],
   "source": [
    "goals_df = scoredGoals_df['minute'].value_counts()\n",
    "goals_df.sort_index().head(10)"
   ]
  },
  {
   "cell_type": "code",
   "execution_count": 580,
   "metadata": {},
   "outputs": [
    {
     "name": "stdout",
     "output_type": "stream",
     "text": [
      "Stored 'scoredGoals_df' (DataFrame)\n"
     ]
    }
   ],
   "source": [
    "%store scoredGoals_df"
   ]
  },
  {
   "cell_type": "code",
   "execution_count": 581,
   "metadata": {},
   "outputs": [
    {
     "name": "stdout",
     "output_type": "stream",
     "text": [
      "Stored 'goals_df' (Series)\n"
     ]
    }
   ],
   "source": [
    "%store goals_df"
   ]
  },
  {
   "cell_type": "code",
   "execution_count": 582,
   "metadata": {},
   "outputs": [
    {
     "name": "stdout",
     "output_type": "stream",
     "text": [
      "Stored 'goalsScoredByGuestTeam_df' (Series)\n"
     ]
    }
   ],
   "source": [
    "%store goalsScoredByGuestTeam_df"
   ]
  },
  {
   "cell_type": "code",
   "execution_count": 583,
   "metadata": {},
   "outputs": [
    {
     "name": "stdout",
     "output_type": "stream",
     "text": [
      "Stored 'goalsScoredByHomeTeam_df' (Series)\n"
     ]
    }
   ],
   "source": [
    "%store goalsScoredByHomeTeam_df"
   ]
  },
  {
   "cell_type": "markdown",
   "metadata": {},
   "source": [
    "># **Matches**"
   ]
  },
  {
   "cell_type": "markdown",
   "metadata": {},
   "source": [
    "For the dataset of matches, it has been decided that the following columns are not valuable to make a proper game prediction:\n",
    "- Round column\n",
    "- Ref, time and date\n",
    "- Linesman 1 and 2\n",
    "- The amount of cards that are recieved by home and guest teams (subject to change)\n",
    "- First goals and last goals"
   ]
  },
  {
   "cell_type": "code",
   "execution_count": 584,
   "metadata": {},
   "outputs": [
    {
     "data": {
      "text/html": [
       "<div>\n",
       "<style scoped>\n",
       "    .dataframe tbody tr th:only-of-type {\n",
       "        vertical-align: middle;\n",
       "    }\n",
       "\n",
       "    .dataframe tbody tr th {\n",
       "        vertical-align: top;\n",
       "    }\n",
       "\n",
       "    .dataframe thead th {\n",
       "        text-align: right;\n",
       "    }\n",
       "</style>\n",
       "<table border=\"1\" class=\"dataframe\">\n",
       "  <thead>\n",
       "    <tr style=\"text-align: right;\">\n",
       "      <th></th>\n",
       "      <th>season</th>\n",
       "      <th>host</th>\n",
       "      <th>guest</th>\n",
       "      <th>host_scores</th>\n",
       "      <th>guest_scores</th>\n",
       "      <th>stadium</th>\n",
       "      <th>spectators</th>\n",
       "    </tr>\n",
       "  </thead>\n",
       "  <tbody>\n",
       "    <tr>\n",
       "      <th>0</th>\n",
       "      <td>1956-1957</td>\n",
       "      <td>afc-ajax</td>\n",
       "      <td>bvc-amsterdam</td>\n",
       "      <td>2</td>\n",
       "      <td>3</td>\n",
       "      <td>de-meer-amsterdam</td>\n",
       "      <td>22.000</td>\n",
       "    </tr>\n",
       "    <tr>\n",
       "      <th>1</th>\n",
       "      <td>1956-1957</td>\n",
       "      <td>afc-ajax</td>\n",
       "      <td>fc-den-bosch</td>\n",
       "      <td>1</td>\n",
       "      <td>0</td>\n",
       "      <td>de-meer-amsterdam</td>\n",
       "      <td>18.000</td>\n",
       "    </tr>\n",
       "    <tr>\n",
       "      <th>2</th>\n",
       "      <td>1956-1957</td>\n",
       "      <td>afc-ajax</td>\n",
       "      <td>fc-utrecht</td>\n",
       "      <td>1</td>\n",
       "      <td>2</td>\n",
       "      <td>de-meer-amsterdam</td>\n",
       "      <td>14.000</td>\n",
       "    </tr>\n",
       "    <tr>\n",
       "      <th>3</th>\n",
       "      <td>1956-1957</td>\n",
       "      <td>afc-ajax</td>\n",
       "      <td>feyenoord</td>\n",
       "      <td>1</td>\n",
       "      <td>0</td>\n",
       "      <td>de-meer-amsterdam</td>\n",
       "      <td>22.000</td>\n",
       "    </tr>\n",
       "    <tr>\n",
       "      <th>4</th>\n",
       "      <td>1956-1957</td>\n",
       "      <td>afc-ajax</td>\n",
       "      <td>fortuna-54</td>\n",
       "      <td>0</td>\n",
       "      <td>2</td>\n",
       "      <td>de-meer-amsterdam</td>\n",
       "      <td>20.000</td>\n",
       "    </tr>\n",
       "    <tr>\n",
       "      <th>...</th>\n",
       "      <td>...</td>\n",
       "      <td>...</td>\n",
       "      <td>...</td>\n",
       "      <td>...</td>\n",
       "      <td>...</td>\n",
       "      <td>...</td>\n",
       "      <td>...</td>\n",
       "    </tr>\n",
       "    <tr>\n",
       "      <th>19925</th>\n",
       "      <td>2021-2022</td>\n",
       "      <td>willem-ii</td>\n",
       "      <td>rkc-waalwijk</td>\n",
       "      <td>3</td>\n",
       "      <td>1</td>\n",
       "      <td>koning-willem-ii-stadion-tilburg</td>\n",
       "      <td>4.686</td>\n",
       "    </tr>\n",
       "    <tr>\n",
       "      <th>19926</th>\n",
       "      <td>0</td>\n",
       "      <td>0</td>\n",
       "      <td>0</td>\n",
       "      <td>0</td>\n",
       "      <td>0</td>\n",
       "      <td>0</td>\n",
       "      <td>0</td>\n",
       "    </tr>\n",
       "    <tr>\n",
       "      <th>19927</th>\n",
       "      <td>2021-2022</td>\n",
       "      <td>willem-ii</td>\n",
       "      <td>sc-heerenveen</td>\n",
       "      <td>0</td>\n",
       "      <td>0</td>\n",
       "      <td>koning-willem-ii-stadion-tilburg</td>\n",
       "      <td>13.082</td>\n",
       "    </tr>\n",
       "    <tr>\n",
       "      <th>19928</th>\n",
       "      <td>2021-2022</td>\n",
       "      <td>willem-ii</td>\n",
       "      <td>sparta-rotterdam</td>\n",
       "      <td>0</td>\n",
       "      <td>3</td>\n",
       "      <td>koning-willem-ii-stadion-tilburg</td>\n",
       "      <td>13.028</td>\n",
       "    </tr>\n",
       "    <tr>\n",
       "      <th>19929</th>\n",
       "      <td>0</td>\n",
       "      <td>0</td>\n",
       "      <td>0</td>\n",
       "      <td>0</td>\n",
       "      <td>0</td>\n",
       "      <td>0</td>\n",
       "      <td>0</td>\n",
       "    </tr>\n",
       "  </tbody>\n",
       "</table>\n",
       "<p>19930 rows × 7 columns</p>\n",
       "</div>"
      ],
      "text/plain": [
       "          season       host             guest host_scores guest_scores  \\\n",
       "0      1956-1957   afc-ajax     bvc-amsterdam           2            3   \n",
       "1      1956-1957   afc-ajax      fc-den-bosch           1            0   \n",
       "2      1956-1957   afc-ajax        fc-utrecht           1            2   \n",
       "3      1956-1957   afc-ajax         feyenoord           1            0   \n",
       "4      1956-1957   afc-ajax        fortuna-54           0            2   \n",
       "...          ...        ...               ...         ...          ...   \n",
       "19925  2021-2022  willem-ii      rkc-waalwijk           3            1   \n",
       "19926          0          0                 0           0            0   \n",
       "19927  2021-2022  willem-ii     sc-heerenveen           0            0   \n",
       "19928  2021-2022  willem-ii  sparta-rotterdam           0            3   \n",
       "19929          0          0                 0           0            0   \n",
       "\n",
       "                                stadium spectators  \n",
       "0                     de-meer-amsterdam     22.000  \n",
       "1                     de-meer-amsterdam     18.000  \n",
       "2                     de-meer-amsterdam     14.000  \n",
       "3                     de-meer-amsterdam     22.000  \n",
       "4                     de-meer-amsterdam     20.000  \n",
       "...                                 ...        ...  \n",
       "19925  koning-willem-ii-stadion-tilburg      4.686  \n",
       "19926                                 0          0  \n",
       "19927  koning-willem-ii-stadion-tilburg     13.082  \n",
       "19928  koning-willem-ii-stadion-tilburg     13.028  \n",
       "19929                                 0          0  \n",
       "\n",
       "[19930 rows x 7 columns]"
      ]
     },
     "execution_count": 584,
     "metadata": {},
     "output_type": "execute_result"
    }
   ],
   "source": [
    "matches_raw = './_matches.csv'\n",
    "matches_df = pd.read_csv(matches_raw, sep=',')\n",
    "#Dropping unnecessary columns\n",
    "matches_df.drop(['round', 'ref', 'time', 'date', 'linesman1', 'linesman2', 'home_first_card', 'home_last_card', 'away_first_card', 'away_last_card', 'home_yellow', 'home_red', 'away_yellow', 'away_red', 'away_yelred', 'home_yelred', 'first_goal', 'last_goal', matches_df.columns[0]], axis = 1, inplace = True)\n",
    "#Filling empty values\n",
    "matches_df['saison'].fillna(\" \", inplace = True)\n",
    "matches_df['home'].fillna(\" \", inplace = True)\n",
    "matches_df['spectators'].fillna(0, inplace = True)\n",
    "matches_df['stadium'].fillna(\" \", inplace = True)\n",
    "matches_df[matches_df[\"home_score\"] == \"-\"] = 0\n",
    "matches_df[matches_df[\"away_score\"] == \"2 Toeg.\"] = 0\n",
    "matches_df['home_score'].fillna(0, inplace = True)\n",
    "matches_df['away_score'].fillna(0, inplace = True)\n",
    "matches_df['away'].fillna(0, inplace = True)\n",
    "matches_df[matches_df[\"spectators\"] == \"Achter gesloten deuren.\"] = 0\n",
    "matches_df.rename(columns = ({'saison': 'season', 'home': 'host', 'away': 'guest', 'home_score': 'host_scores', 'away_score': 'guest_scores'}), inplace = True)\n",
    "matches_df"
   ]
  },
  {
   "cell_type": "code",
   "execution_count": 585,
   "metadata": {},
   "outputs": [],
   "source": [
    "# Rafactoring the names of the hosting clubs\n",
    "scoredGoals_df['host'].replace(to_replace=\"excelsior-rotterdam\",value=\"sbv-excelsior\", inplace = True)\n",
    "scoredGoals_df['host'].replace(to_replace=\"willem-ii\",value=\"willem-ii-tilburg\", inplace = True)\n",
    "scoredGoals_df['host'].replace(to_replace=\"mvv\",value=\"mvv-maastricht\", inplace = True)\n",
    "scoredGoals_df['host'].replace(to_replace=\"vitesse\",value=\"vitesse-arnhem\", inplace = True)\n",
    "scoredGoals_df['host'].replace(to_replace=\"vitesse-arnheim\",value=\"vitesse-arnhem\", inplace = True)\n",
    "scoredGoals_df['host'].replace(to_replace=\"cambuur-leeuwarden\",value=\"sc-cambuur\", inplace = True)\n",
    "scoredGoals_df['host'].replace(to_replace=\"ajax-amsterdam\",value=\"afc-ajax\", inplace = True)\n",
    "scoredGoals_df['host'].replace(to_replace=\"feyenoord-rotterdam\",value=\"feyenoord\", inplace = True)\n",
    "scoredGoals_df['host'].replace(to_replace=\"go-ahead-eagles_2\",value=\"go-ahead-eagles\", inplace = True)\n",
    "hostingTeams_df = scoredGoals_df['host'].value_counts()"
   ]
  },
  {
   "cell_type": "code",
   "execution_count": 586,
   "metadata": {},
   "outputs": [],
   "source": [
    "# Rwfactoring the names of the guest clubs\n",
    "scoredGoals_df['guest'].replace(to_replace=\"excelsior-rotterdam\",value=\"sbv-excelsior\", inplace = True)\n",
    "scoredGoals_df['guest'].replace(to_replace=\"willem-ii\",value=\"willem-ii-tilburg\", inplace = True)\n",
    "scoredGoals_df['guest'].replace(to_replace=\"mvv\",value=\"mvv-maastricht\", inplace = True)\n",
    "scoredGoals_df['guest'].replace(to_replace=\"vitesse\",value=\"vitesse-arnhem\", inplace = True)\n",
    "scoredGoals_df['guest'].replace(to_replace=\"vitesse-arnheim\",value=\"vitesse-arnhem\", inplace = True)\n",
    "scoredGoals_df['guest'].replace(to_replace=\"cambuur-leeuwarden\",value=\"sc-cambuur\", inplace = True)\n",
    "scoredGoals_df['guest'].replace(to_replace=\"ajax-amsterdam\",value=\"afc-ajax\", inplace = True)\n",
    "scoredGoals_df['guest'].replace(to_replace=\"feyenoord-rotterdam\",value=\"feyenoord\", inplace = True)\n",
    "scoredGoals_df['guest'].replace(to_replace=\"go-ahead-eagles_2\",value=\"go-ahead-eagles\", inplace = True)\n",
    "guestTeams_df = scoredGoals_df['guest'].value_counts()"
   ]
  },
  {
   "cell_type": "code",
   "execution_count": 587,
   "metadata": {},
   "outputs": [
    {
     "data": {
      "text/plain": [
       "6      1340\n",
       "8      1291\n",
       "5      1283\n",
       "7      1274\n",
       "12     1184\n",
       "       ... \n",
       "289       1\n",
       "550       1\n",
       "882       1\n",
       "939       1\n",
       "987       1\n",
       "Name: spectators, Length: 85, dtype: int64"
      ]
     },
     "execution_count": 587,
     "metadata": {},
     "output_type": "execute_result"
    }
   ],
   "source": [
    "# Amount of spectators | # of occurences\n",
    "matchSpectators_df = matches_df['spectators'].astype(float).round(1).astype(int).value_counts()\n",
    "matchSpectators_df"
   ]
  },
  {
   "cell_type": "code",
   "execution_count": 588,
   "metadata": {},
   "outputs": [
    {
     "data": {
      "text/plain": [
       "1     5678\n",
       "2     4514\n",
       "0     4395\n",
       "3     2735\n",
       "4     1435\n",
       "5      679\n",
       "6      299\n",
       "7      118\n",
       "8       46\n",
       "9       25\n",
       "10       5\n",
       "12       1\n",
       "Name: host_scores, dtype: int64"
      ]
     },
     "execution_count": 588,
     "metadata": {},
     "output_type": "execute_result"
    }
   ],
   "source": [
    "#Amount of goals scored by games by home teams\n",
    "matchGoals_df = matches_df['host_scores'].astype(int).value_counts()\n",
    "matchGoals_df"
   ]
  },
  {
   "cell_type": "code",
   "execution_count": 589,
   "metadata": {},
   "outputs": [
    {
     "data": {
      "text/plain": [
       "0     6638\n",
       "1     6593\n",
       "2     3876\n",
       "3     1719\n",
       "4      704\n",
       "5      268\n",
       "6       85\n",
       "7       33\n",
       "8       11\n",
       "9        2\n",
       "10       1\n",
       "Name: guest_scores, dtype: int64"
      ]
     },
     "execution_count": 589,
     "metadata": {},
     "output_type": "execute_result"
    }
   ],
   "source": [
    "# Amount of goals scored by games by guest teams\n",
    "matchGoals_df = matches_df['guest_scores'].astype(int).value_counts()\n",
    "matchGoals_df"
   ]
  },
  {
   "cell_type": "code",
   "execution_count": 590,
   "metadata": {},
   "outputs": [
    {
     "name": "stdout",
     "output_type": "stream",
     "text": [
      "Stored 'matches_df' (DataFrame)\n",
      "Stored 'matchGoals_df' (Series)\n",
      "Stored 'matchSpectators_df' (Series)\n",
      "Stored 'guestTeams_df' (Series)\n",
      "Stored 'hostingTeams_df' (Series)\n"
     ]
    }
   ],
   "source": [
    "%store matches_df\n",
    "%store matchGoals_df\n",
    "%store matchSpectators_df\n",
    "%store guestTeams_df\n",
    "%store hostingTeams_df"
   ]
  },
  {
   "cell_type": "markdown",
   "metadata": {},
   "source": [
    ">**<h2>PSV vs Ajax. Counting all of the goals<h2>**"
   ]
  },
  {
   "cell_type": "code",
   "execution_count": 591,
   "metadata": {},
   "outputs": [
    {
     "name": "stdout",
     "output_type": "stream",
     "text": [
      "Stored 'goalsOfBothTeamsAgainstEachother' (DataFrame)\n",
      "Stored 'goalsOfPsvVsAjax' (DataFrame)\n",
      "Stored 'goalsOfAjaxVsPsv' (DataFrame)\n"
     ]
    }
   ],
   "source": [
    "def countGoalsOfTeam(df,teamName):\n",
    "    counter = 0\n",
    "    for var in df:\n",
    "        if var == teamName:\n",
    "            counter+=1\n",
    "    return counter\n",
    "\n",
    "#Counting the goals (of each player) of PSV and Ajax against all teams\n",
    "goalsByAjax = scoredGoals_df['player'].loc[scoredGoals_df['team'] == \"afc-ajax\"].value_counts()\n",
    "goalsByPsv = scoredGoals_df['player'].loc[scoredGoals_df['team'] == \"psv-eindhoven\"].value_counts()\n",
    "#Counting the goals of PSV and Ajax against eachother/host&guest\n",
    "goalsOfPsvVsAjax =  pd.DataFrame({'Clubs':['PsvHost', 'AjaxGuest'], '#_of_Goals':[countGoalsOfTeam(scoredGoals_df['host'],\"psv-eindhoven\"), \n",
    "countGoalsOfTeam(scoredGoals_df['guest'],\"afc-ajax\")]})\n",
    "goalsOfAjaxVsPsv =  pd.DataFrame({'Clubs':['AjaxHost', 'PsvGuest'], '#_of_Goals':[countGoalsOfTeam(scoredGoals_df['host'],\"afc-ajax\"), \n",
    "countGoalsOfTeam(scoredGoals_df['guest'],\"psv-eindhoven\")]})\n",
    "goalsOfBothTeamsAgainstEachother = pd.concat([goalsOfPsvVsAjax, goalsOfAjaxVsPsv])\n",
    "%store goalsOfBothTeamsAgainstEachother\n",
    "%store goalsOfPsvVsAjax\n",
    "%store goalsOfAjaxVsPsv"
   ]
  },
  {
   "cell_type": "markdown",
   "metadata": {},
   "source": [
    "**Scored goals prediction for Ajax as Guests and Hosts**"
   ]
  },
  {
   "cell_type": "markdown",
   "metadata": {},
   "source": [
    "*Ajax - host, teams that scored a goal, sorted by seasons and team*"
   ]
  },
  {
   "cell_type": "code",
   "execution_count": 592,
   "metadata": {},
   "outputs": [
    {
     "name": "stdout",
     "output_type": "stream",
     "text": [
      "Stored 'df_HostAjaxScoredGoalsPerSeason' (DataFrame)\n"
     ]
    }
   ],
   "source": [
    "scoredGoals_df\n",
    "df_HostAjaxScoredGoalsPerSeason = pd.DataFrame()\n",
    "playerScoredTheGoalAjaxHost = scoredGoals_df['player'].loc[scoredGoals_df['host']=='afc-ajax']\n",
    "minuteOfScoredGoalAjaxHost = scoredGoals_df['minute'].loc[scoredGoals_df['host']=='afc-ajax']\n",
    "seasonsOfGoalScoredAjaxHost = scoredGoals_df['season'].loc[scoredGoals_df['host'] == 'afc-ajax']\n",
    "teamThatScoredTheGoalAjaxHost = scoredGoals_df['team'].loc[scoredGoals_df['host'] == 'afc-ajax']\n",
    "enemyTeamAjaxHost = scoredGoals_df['guest'].loc[scoredGoals_df['host'] == 'afc-ajax']\n",
    "hostingTeamAjax = scoredGoals_df['host'].loc[scoredGoals_df['host'] == 'afc-ajax']\n",
    "\n",
    "df_HostAjaxScoredGoalsPerSeason['Season'] = seasonsOfGoalScoredAjaxHost\n",
    "df_HostAjaxScoredGoalsPerSeason['Hosts'] = hostingTeamAjax\n",
    "df_HostAjaxScoredGoalsPerSeason['Guests'] = enemyTeamAjaxHost\n",
    "df_HostAjaxScoredGoalsPerSeason['Team scored a goal'] = teamThatScoredTheGoalAjaxHost\n",
    "df_HostAjaxScoredGoalsPerSeason['Player scored the goal'] = playerScoredTheGoalAjaxHost\n",
    "df_HostAjaxScoredGoalsPerSeason['Minute of scored goal'] = minuteOfScoredGoalAjaxHost\n",
    "%store df_HostAjaxScoredGoalsPerSeason"
   ]
  },
  {
   "cell_type": "markdown",
   "metadata": {},
   "source": [
    "*Ajax - guest, teams that scored a goal, sorted by seasons and team*"
   ]
  },
  {
   "cell_type": "code",
   "execution_count": 593,
   "metadata": {},
   "outputs": [
    {
     "name": "stdout",
     "output_type": "stream",
     "text": [
      "Stored 'df_GuestAjaxScoredGoalsPerSeason' (DataFrame)\n"
     ]
    }
   ],
   "source": [
    "scoredGoals_df\n",
    "df_GuestAjaxScoredGoalsPerSeason = pd.DataFrame()\n",
    "playerScoredTheGoalAjaxGuest = scoredGoals_df['player'].loc[scoredGoals_df['guest']=='afc-ajax']\n",
    "minuteOfScoredGoalAjaxGuest = scoredGoals_df['minute'].loc[scoredGoals_df['guest']=='afc-ajax']\n",
    "seasonsOfGoalScoredAjaxGuest = scoredGoals_df['season'].loc[scoredGoals_df['guest'] == 'afc-ajax']\n",
    "teamThatScoredTheGoalAjaxGuest = scoredGoals_df['team'].loc[scoredGoals_df['guest'] == 'afc-ajax']\n",
    "hostingTeamAjaxGuest = scoredGoals_df['host'].loc[scoredGoals_df['guest'] == 'afc-ajax']\n",
    "guestTeamAjax = scoredGoals_df['guest'].loc[scoredGoals_df['guest'] == 'afc-ajax']\n",
    "\n",
    "df_GuestAjaxScoredGoalsPerSeason['Season'] = seasonsOfGoalScoredAjaxGuest\n",
    "df_GuestAjaxScoredGoalsPerSeason['Hosts'] = hostingTeamAjaxGuest\n",
    "df_GuestAjaxScoredGoalsPerSeason['Guests'] = guestTeamAjax\n",
    "df_GuestAjaxScoredGoalsPerSeason['Team scored a goal'] = teamThatScoredTheGoalAjaxGuest\n",
    "df_GuestAjaxScoredGoalsPerSeason['Player scored the goal'] = playerScoredTheGoalAjaxGuest\n",
    "df_GuestAjaxScoredGoalsPerSeason['Minute of scored goal'] = minuteOfScoredGoalAjaxGuest\n",
    "%store df_GuestAjaxScoredGoalsPerSeason"
   ]
  },
  {
   "cell_type": "markdown",
   "metadata": {},
   "source": [
    "**Scored goals prediction for PSV Eindhoven as Guests and Hosts**"
   ]
  },
  {
   "cell_type": "markdown",
   "metadata": {},
   "source": [
    "*PSV Eindhoven - host, teams that scored a goal, sorted by seasons and team*"
   ]
  },
  {
   "cell_type": "code",
   "execution_count": 594,
   "metadata": {},
   "outputs": [
    {
     "name": "stdout",
     "output_type": "stream",
     "text": [
      "Stored 'df_HostPSVScoredGoalsPerSeason' (DataFrame)\n"
     ]
    }
   ],
   "source": [
    "scoredGoals_df\n",
    "df_HostPSVScoredGoalsPerSeason = pd.DataFrame()\n",
    "playerScoredTheGoalPSVHost = scoredGoals_df['player'].loc[scoredGoals_df['host']=='psv-eindhoven']\n",
    "minuteOfScoredGoalPSVHost = scoredGoals_df['minute'].loc[scoredGoals_df['host']=='psv-eindhoven']\n",
    "seasonsOfGoalScoredPSVHost = scoredGoals_df['season'].loc[scoredGoals_df['host'] == 'psv-eindhoven']\n",
    "teamThatScoredTheGoalPSVHost = scoredGoals_df['team'].loc[scoredGoals_df['host'] == 'psv-eindhoven']\n",
    "guestTeamPSVHost = scoredGoals_df['guest'].loc[scoredGoals_df['host'] == 'psv-eindhoven']\n",
    "hostingTeamPSV = scoredGoals_df['host'].loc[scoredGoals_df['host'] == 'psv-eindhoven']\n",
    "\n",
    "df_HostPSVScoredGoalsPerSeason['Season'] = seasonsOfGoalScoredPSVHost\n",
    "df_HostPSVScoredGoalsPerSeason['Hosts'] = hostingTeamPSV\n",
    "df_HostPSVScoredGoalsPerSeason['Guests'] = guestTeamPSVHost\n",
    "df_HostPSVScoredGoalsPerSeason['Team scored a goal'] = teamThatScoredTheGoalPSVHost\n",
    "df_HostPSVScoredGoalsPerSeason['Player scored the goal'] = playerScoredTheGoalPSVHost\n",
    "df_HostPSVScoredGoalsPerSeason['Minute of scored goal'] = minuteOfScoredGoalPSVHost\n",
    "%store df_HostPSVScoredGoalsPerSeason"
   ]
  },
  {
   "cell_type": "markdown",
   "metadata": {},
   "source": [
    "*PSV Eindhoven - guest, teams that scored a goal, sorted by seasons and team*"
   ]
  },
  {
   "cell_type": "code",
   "execution_count": 595,
   "metadata": {},
   "outputs": [
    {
     "name": "stdout",
     "output_type": "stream",
     "text": [
      "Stored 'df_GuestPSVScoredGoalsPerSeason' (DataFrame)\n"
     ]
    }
   ],
   "source": [
    "scoredGoals_df\n",
    "df_GuestPSVScoredGoalsPerSeason = pd.DataFrame()\n",
    "playerScoredTheGoalPSVGuest = scoredGoals_df['player'].loc[scoredGoals_df['guest']=='psv-eindhoven']\n",
    "minuteOfScoredGoalPSVGuest = scoredGoals_df['minute'].loc[scoredGoals_df['guest']=='psv-eindhoven']\n",
    "seasonsOfGoalScoredPSVGuest = scoredGoals_df['season'].loc[scoredGoals_df['guest'] == 'psv-eindhoven']\n",
    "teamThatScoredTheGoalPSVGuest = scoredGoals_df['team'].loc[scoredGoals_df['guest'] == 'psv-eindhoven']\n",
    "hostTeamPSVGuest = scoredGoals_df['host'].loc[scoredGoals_df['guest'] == 'psv-eindhoven']\n",
    "guestTeamPSV = scoredGoals_df['guest'].loc[scoredGoals_df['guest'] == 'psv-eindhoven']\n",
    "\n",
    "df_GuestPSVScoredGoalsPerSeason['Season'] = seasonsOfGoalScoredPSVGuest\n",
    "df_GuestPSVScoredGoalsPerSeason['Hosts'] = hostTeamPSVGuest\n",
    "df_GuestPSVScoredGoalsPerSeason['Guests'] = guestTeamPSV\n",
    "df_GuestPSVScoredGoalsPerSeason['Team scored a goal'] = teamThatScoredTheGoalPSVGuest\n",
    "df_GuestPSVScoredGoalsPerSeason['Player scored the goal'] = playerScoredTheGoalPSVGuest\n",
    "df_GuestPSVScoredGoalsPerSeason['Minute of scored goal'] = minuteOfScoredGoalPSVGuest\n",
    "%store df_GuestPSVScoredGoalsPerSeason"
   ]
  },
  {
   "cell_type": "markdown",
   "metadata": {},
   "source": [
    ">**<h2>PSV vs. Ajax. Counting all of the cards that both PSV and Ajax recieve<h2>**"
   ]
  },
  {
   "cell_type": "code",
   "execution_count": 596,
   "metadata": {},
   "outputs": [
    {
     "name": "stdout",
     "output_type": "stream",
     "text": [
      "Stored 'yellowRedCardsBothTeams' (DataFrame)\n",
      "Stored 'yellowRedCardsAjax' (Series)\n",
      "Stored 'yellowRedCardsPsv' (Series)\n"
     ]
    }
   ],
   "source": [
    "def countYellowCards(df,teamName):\n",
    "    yellowCards = 0\n",
    "    for var in df:\n",
    "        if var == teamName:\n",
    "            counter+=1\n",
    "    return yellowCards\n",
    "\n",
    "def countRedCards(df,teamName):\n",
    "    redCards = 0\n",
    "    for var in df:\n",
    "        if var == teamName:\n",
    "            counter+=1\n",
    "    return redCards\n",
    "\n",
    "yellowRedCardsAjax = df_cardsRaw['type'].loc[df_cardsRaw['team'] == 'afc-ajax'].value_counts()\n",
    "yellowRedCardsPsv = df_cardsRaw['type'].loc[df_cardsRaw['team'] == 'psv-eindhoven'].value_counts()\n",
    "yellowRedCardsBothTeams = pd.concat([yellowRedCardsAjax, yellowRedCardsPsv], axis=1)\n",
    "yellowRedCardsBothTeams = pd.DataFrame()\n",
    "yellowRedCardsBothTeams['Ajax_cards'] = yellowRedCardsAjax\n",
    "yellowRedCardsBothTeams['Psv_cards'] = yellowRedCardsPsv\n",
    "%store yellowRedCardsBothTeams\n",
    "%store yellowRedCardsAjax\n",
    "%store yellowRedCardsPsv"
   ]
  },
  {
   "cell_type": "markdown",
   "metadata": {},
   "source": [
    "**Cards for Ajax as Guests and Hosts**"
   ]
  },
  {
   "cell_type": "markdown",
   "metadata": {},
   "source": [
    "*Ajax - host, teams that gets a card, sorted by seasons and type of cards*"
   ]
  },
  {
   "cell_type": "code",
   "execution_count": 597,
   "metadata": {},
   "outputs": [
    {
     "name": "stdout",
     "output_type": "stream",
     "text": [
      "Stored 'df_HostAjaxYRCardsPerSeason' (DataFrame)\n"
     ]
    }
   ],
   "source": [
    "df_cardsRaw\n",
    "df_HostAjaxYRCardsPerSeason = pd.DataFrame()\n",
    "yellowRedCardsAjaxHost = df_cardsRaw['type'].loc[df_cardsRaw['host']=='afc-ajax']\n",
    "seasonsAjaxHost = df_cardsRaw['season'].loc[df_cardsRaw['host'] == 'afc-ajax']\n",
    "teamThatGetsCardAjaxHost = df_cardsRaw['team'].loc[df_cardsRaw['host'] == 'afc-ajax']\n",
    "enemyTeamAjaxHost = df_cardsRaw['guest'].loc[df_cardsRaw['host'] == 'afc-ajax']\n",
    "hostingTeamAjax = df_cardsRaw['host'].loc[df_cardsRaw['host'] == 'afc-ajax']\n",
    "\n",
    "df_HostAjaxYRCardsPerSeason['Season'] = seasonsAjaxHost\n",
    "df_HostAjaxYRCardsPerSeason['Target_team'] = hostingTeamAjax\n",
    "df_HostAjaxYRCardsPerSeason['Enemy_team'] = enemyTeamAjaxHost\n",
    "df_HostAjaxYRCardsPerSeason['Team_with_card'] = teamThatGetsCardAjaxHost\n",
    "df_HostAjaxYRCardsPerSeason['Type_of_card'] = yellowRedCardsAjaxHost\n",
    "%store df_HostAjaxYRCardsPerSeason"
   ]
  },
  {
   "cell_type": "markdown",
   "metadata": {},
   "source": [
    "*Ajax - guest, teams that gets a card, sorted by seasons and type of cards*"
   ]
  },
  {
   "cell_type": "code",
   "execution_count": 598,
   "metadata": {},
   "outputs": [
    {
     "name": "stdout",
     "output_type": "stream",
     "text": [
      "Stored 'df_GuestAjaxYRCardsPerSeason' (DataFrame)\n"
     ]
    }
   ],
   "source": [
    "df_cardsRaw\n",
    "df_GuestAjaxYRCardsPerSeason = pd.DataFrame()\n",
    "yellowRedCardsAjaxGuest = df_cardsRaw['type'].loc[df_cardsRaw['guest']=='afc-ajax']\n",
    "seasonsAjaxGuest = df_cardsRaw['season'].loc[df_cardsRaw['guest'] == 'afc-ajax']\n",
    "teamThatGetsCardAjaxGuest = df_cardsRaw['team'].loc[df_cardsRaw['guest'] == 'afc-ajax']\n",
    "enemyTeamAjaxGuest = df_cardsRaw['host'].loc[df_cardsRaw['guest'] == 'afc-ajax']\n",
    "guestingTeamAjax = df_cardsRaw['guest'].loc[df_cardsRaw['guest'] == 'afc-ajax']\n",
    "\n",
    "df_GuestAjaxYRCardsPerSeason['Season'] = seasonsAjaxGuest\n",
    "df_GuestAjaxYRCardsPerSeason['Target_team'] = guestingTeamAjax\n",
    "df_GuestAjaxYRCardsPerSeason['Enemy_team'] = enemyTeamAjaxGuest\n",
    "df_GuestAjaxYRCardsPerSeason['Team_with_card'] = teamThatGetsCardAjaxGuest\n",
    "df_GuestAjaxYRCardsPerSeason['Type_of_card'] = yellowRedCardsAjaxGuest\n",
    "%store df_GuestAjaxYRCardsPerSeason"
   ]
  },
  {
   "cell_type": "markdown",
   "metadata": {},
   "source": [
    "**Cards prediction for Psv as Guests and Hosts**"
   ]
  },
  {
   "cell_type": "markdown",
   "metadata": {},
   "source": [
    "*PSV - host, teams that gets a card, sorted by seasons and type of cards*"
   ]
  },
  {
   "cell_type": "code",
   "execution_count": 599,
   "metadata": {},
   "outputs": [
    {
     "name": "stdout",
     "output_type": "stream",
     "text": [
      "Stored 'df_HostPsvYRCardsPerSeason' (DataFrame)\n"
     ]
    }
   ],
   "source": [
    "\n",
    "df_cardsRaw\n",
    "df_HostPsvYRCardsPerSeason = pd.DataFrame()\n",
    "yellowRedCardsPsvHost = df_cardsRaw['type'].loc[df_cardsRaw['host']=='psv-eindhoven']\n",
    "seasonsPsvHost = df_cardsRaw['season'].loc[df_cardsRaw['host'] == 'psv-eindhoven']\n",
    "teamThatGetsCardPsvHost = df_cardsRaw['team'].loc[df_cardsRaw['host'] == 'psv-eindhoven']\n",
    "enemyTeamPsvHost = df_cardsRaw['guest'].loc[df_cardsRaw['host'] == 'psv-eindhoven']\n",
    "hostingTeamPsv = df_cardsRaw['host'].loc[df_cardsRaw['host'] == 'psv-eindhoven']\n",
    "\n",
    "df_HostPsvYRCardsPerSeason['Season'] = seasonsPsvHost\n",
    "df_HostPsvYRCardsPerSeason['Target_team'] = hostingTeamPsv\n",
    "df_HostPsvYRCardsPerSeason['Enemy_team'] = enemyTeamPsvHost\n",
    "df_HostPsvYRCardsPerSeason['Team_with_card'] = teamThatGetsCardPsvHost\n",
    "df_HostPsvYRCardsPerSeason['Type_of_card'] = yellowRedCardsPsvHost\n",
    "df_HostPsvYRCardsPerSeason\n",
    "\n",
    "df_HostPsvYRCardsPerSeason['Enemy_team'].replace(to_replace=\"excelsior-rotterdam\",value=\"sbv-excelsior\", inplace = True)\n",
    "df_HostPsvYRCardsPerSeason['Enemy_team'].replace(to_replace=\"willem-ii\",value=\"willem-ii-tilburg\", inplace = True)\n",
    "df_HostPsvYRCardsPerSeason['Enemy_team'].replace(to_replace=\"mvv\",value=\"mvv-maastricht\", inplace = True)\n",
    "df_HostPsvYRCardsPerSeason['Enemy_team'].replace(to_replace=\"vitesse\",value=\"vitesse-arnhem\", inplace = True)\n",
    "df_HostPsvYRCardsPerSeason['Enemy_team'].replace(to_replace=\"vitesse-arnheim\",value=\"vitesse-arnhem\", inplace = True)\n",
    "df_HostPsvYRCardsPerSeason['Enemy_team'].replace(to_replace=\"cambuur-leeuwarden\",value=\"sc-cambuur\", inplace = True)\n",
    "df_HostPsvYRCardsPerSeason['Enemy_team'].replace(to_replace=\"ajax-amsterdam\",value=\"afc-ajax\", inplace = True)\n",
    "df_HostPsvYRCardsPerSeason['Enemy_team'].replace(to_replace=\"feyenoord-rotterdam\",value=\"feyenoord\", inplace = True)\n",
    "df_HostPsvYRCardsPerSeason['Enemy_team'].replace(to_replace=\"go-ahead-eagles_2\",value=\"go-ahead-eagles\", inplace = True)\n",
    "%store df_HostPsvYRCardsPerSeason"
   ]
  },
  {
   "cell_type": "markdown",
   "metadata": {},
   "source": [
    "*PSV - guest, teams that gets a card, sorted by seasons and type of cards*"
   ]
  },
  {
   "cell_type": "code",
   "execution_count": 600,
   "metadata": {},
   "outputs": [
    {
     "name": "stdout",
     "output_type": "stream",
     "text": [
      "Stored 'df_GuestPsvYRCardsPerSeason' (DataFrame)\n"
     ]
    }
   ],
   "source": [
    "df_cardsRaw\n",
    "df_GuestPsvYRCardsPerSeason = pd.DataFrame()\n",
    "yellowRedCardsPsvGuest = df_cardsRaw['type'].loc[df_cardsRaw['guest']=='psv-eindhoven']\n",
    "seasonsPsvGuest = df_cardsRaw['season'].loc[df_cardsRaw['guest'] == 'psv-eindhoven']\n",
    "teamThatGetsCardPsvGuest = df_cardsRaw['team'].loc[df_cardsRaw['guest'] == 'psv-eindhoven']\n",
    "enemyTeamPsvGuest = df_cardsRaw['host'].loc[df_cardsRaw['guest'] == 'psv-eindhoven']\n",
    "guestingTeamPsv = df_cardsRaw['guest'].loc[df_cardsRaw['guest'] == 'psv-eindhoven']\n",
    "\n",
    "df_GuestPsvYRCardsPerSeason['Season'] = seasonsPsvGuest\n",
    "df_GuestPsvYRCardsPerSeason['Target_team'] = guestingTeamPsv\n",
    "df_GuestPsvYRCardsPerSeason['Enemy_team'] = enemyTeamPsvGuest\n",
    "df_GuestPsvYRCardsPerSeason['Team_with_card'] = teamThatGetsCardPsvGuest\n",
    "df_GuestPsvYRCardsPerSeason['Type_of_card'] = yellowRedCardsPsvGuest\n",
    "%store df_GuestPsvYRCardsPerSeason"
   ]
  },
  {
   "cell_type": "markdown",
   "metadata": {},
   "source": [
    "**Ajax goals per match as host and guest team**"
   ]
  },
  {
   "cell_type": "markdown",
   "metadata": {},
   "source": [
    "*Ajax - host*"
   ]
  },
  {
   "cell_type": "code",
   "execution_count": 601,
   "metadata": {},
   "outputs": [
    {
     "name": "stdout",
     "output_type": "stream",
     "text": [
      "Stored 'df_HostAjaxScoredGoalsPerMatch' (DataFrame)\n"
     ]
    }
   ],
   "source": [
    "matches_df\n",
    "df_HostAjaxScoredGoalsPerMatch = pd.DataFrame()\n",
    "season_scoreAjaxHost = matches_df['season'].loc[matches_df['host']=='afc-ajax']\n",
    "host_scoreAjaxHost = matches_df['host'].loc[matches_df['host']=='afc-ajax']\n",
    "guest_scoreAjaxHost = matches_df['guest'].loc[matches_df['host'] == 'afc-ajax']\n",
    "hostScore_scoreAjaxHost = matches_df['host_scores'].loc[matches_df['host'] == 'afc-ajax']\n",
    "guestScore_scoreAjaxHost = matches_df['guest_scores'].loc[matches_df['host'] == 'afc-ajax']\n",
    "stadium_scoreAjaxHost = matches_df['stadium'].loc[matches_df['host'] == 'afc-ajax']\n",
    "spectators_scoreAjaxHost = matches_df['spectators'].loc[matches_df['host'] == 'afc-ajax']\n",
    "\n",
    "df_HostAjaxScoredGoalsPerMatch['Season'] = season_scoreAjaxHost\n",
    "df_HostAjaxScoredGoalsPerMatch['Hosts'] = host_scoreAjaxHost\n",
    "df_HostAjaxScoredGoalsPerMatch['Guests'] = guest_scoreAjaxHost\n",
    "df_HostAjaxScoredGoalsPerMatch['Goals scored by host'] = hostScore_scoreAjaxHost\n",
    "df_HostAjaxScoredGoalsPerMatch['Goals scored by guest'] = guestScore_scoreAjaxHost\n",
    "df_HostAjaxScoredGoalsPerMatch['Stadium'] = stadium_scoreAjaxHost\n",
    "df_HostAjaxScoredGoalsPerMatch['Spectators'] = spectators_scoreAjaxHost\n",
    "%store df_HostAjaxScoredGoalsPerMatch"
   ]
  },
  {
   "cell_type": "markdown",
   "metadata": {},
   "source": [
    "*Ajax - guest*"
   ]
  },
  {
   "cell_type": "code",
   "execution_count": 602,
   "metadata": {},
   "outputs": [
    {
     "name": "stdout",
     "output_type": "stream",
     "text": [
      "Stored 'df_GuestAjaxScoredGoalsPerMatch' (DataFrame)\n"
     ]
    }
   ],
   "source": [
    "matches_df\n",
    "df_GuestAjaxScoredGoalsPerMatch = pd.DataFrame()\n",
    "season_scoreAjaxHost = matches_df['season'].loc[matches_df['guest']=='afc-ajax']\n",
    "host_scoreAjaxHost = matches_df['host'].loc[matches_df['guest']=='afc-ajax']\n",
    "guest_scoreAjaxHost = matches_df['guest'].loc[matches_df['guest'] == 'afc-ajax']\n",
    "hostScore_scoreAjaxHost = matches_df['host_scores'].loc[matches_df['guest'] == 'afc-ajax']\n",
    "guestScore_scoreAjaxHost = matches_df['guest_scores'].loc[matches_df['guest'] == 'afc-ajax']\n",
    "stadium_scoreAjaxHost = matches_df['stadium'].loc[matches_df['guest'] == 'afc-ajax']\n",
    "spectators_scoreAjaxHost = matches_df['spectators'].loc[matches_df['guest'] == 'afc-ajax']\n",
    "\n",
    "df_GuestAjaxScoredGoalsPerMatch['Season'] = season_scoreAjaxHost\n",
    "df_GuestAjaxScoredGoalsPerMatch['Hosts'] = host_scoreAjaxHost\n",
    "df_GuestAjaxScoredGoalsPerMatch['Guests'] = guest_scoreAjaxHost\n",
    "df_GuestAjaxScoredGoalsPerMatch['Goals scored by host'] = hostScore_scoreAjaxHost\n",
    "df_GuestAjaxScoredGoalsPerMatch['Goals scored by guest'] = guestScore_scoreAjaxHost\n",
    "df_GuestAjaxScoredGoalsPerMatch['Stadium'] = stadium_scoreAjaxHost\n",
    "df_GuestAjaxScoredGoalsPerMatch['Spectators'] = spectators_scoreAjaxHost\n",
    "%store df_GuestAjaxScoredGoalsPerMatch"
   ]
  },
  {
   "cell_type": "markdown",
   "metadata": {},
   "source": [
    "**PSV Eindhoven goals per match as host and guest team**"
   ]
  },
  {
   "cell_type": "markdown",
   "metadata": {},
   "source": [
    "*PSV Eindhoven - host*"
   ]
  },
  {
   "cell_type": "code",
   "execution_count": 603,
   "metadata": {},
   "outputs": [
    {
     "name": "stdout",
     "output_type": "stream",
     "text": [
      "Stored 'df_HostPSVScoredGoalsPerMatch' (DataFrame)\n"
     ]
    }
   ],
   "source": [
    "matches_df\n",
    "df_HostPSVScoredGoalsPerMatch = pd.DataFrame()\n",
    "season_scorePSVHost = matches_df['season'].loc[matches_df['host']=='psv-eindhoven']\n",
    "host_scorePSVHost = matches_df['host'].loc[matches_df['host']=='psv-eindhoven']\n",
    "guest_scorePSVHost = matches_df['guest'].loc[matches_df['host'] == 'psv-eindhoven']\n",
    "hostScore_scorePSVHost = matches_df['host_scores'].loc[matches_df['host'] == 'psv-eindhoven']\n",
    "guestScore_scorePSVHost = matches_df['guest_scores'].loc[matches_df['host'] == 'psv-eindhoven']\n",
    "stadium_scorePSVHost = matches_df['stadium'].loc[matches_df['host'] == 'psv-eindhoven']\n",
    "spectators_scorePSVHost = matches_df['spectators'].loc[matches_df['host'] == 'psv-eindhoven']\n",
    "\n",
    "df_HostPSVScoredGoalsPerMatch['Season'] = season_scorePSVHost\n",
    "df_HostPSVScoredGoalsPerMatch['Hosts'] = host_scorePSVHost\n",
    "df_HostPSVScoredGoalsPerMatch['Guests'] = guest_scorePSVHost\n",
    "df_HostPSVScoredGoalsPerMatch['Goals scored by host'] = hostScore_scorePSVHost\n",
    "df_HostPSVScoredGoalsPerMatch['Goals scored by guest'] = guestScore_scorePSVHost\n",
    "df_HostPSVScoredGoalsPerMatch['Stadium'] = stadium_scorePSVHost\n",
    "df_HostPSVScoredGoalsPerMatch['Spectators'] = spectators_scorePSVHost\n",
    "%store df_HostPSVScoredGoalsPerMatch"
   ]
  },
  {
   "cell_type": "markdown",
   "metadata": {},
   "source": [
    "*PSV Eindhoven - guest*"
   ]
  },
  {
   "cell_type": "code",
   "execution_count": 604,
   "metadata": {},
   "outputs": [
    {
     "name": "stdout",
     "output_type": "stream",
     "text": [
      "Stored 'df_GuestPSVScoredGoalsPerMatch' (DataFrame)\n"
     ]
    }
   ],
   "source": [
    "matches_df\n",
    "df_GuestPSVScoredGoalsPerMatch = pd.DataFrame()\n",
    "season_scorePSVGuest = matches_df['season'].loc[matches_df['guest']=='psv-eindhoven']\n",
    "host_scorePSVGuest = matches_df['host'].loc[matches_df['guest']=='psv-eindhoven']\n",
    "guest_scorePSVGuest = matches_df['guest'].loc[matches_df['guest'] == 'psv-eindhoven']\n",
    "hostScore_scorePSVGuest = matches_df['host_scores'].loc[matches_df['guest'] == 'psv-eindhoven']\n",
    "guestScore_scorePSVGuest = matches_df['guest_scores'].loc[matches_df['guest'] == 'psv-eindhoven']\n",
    "stadium_scorePSVGuest = matches_df['stadium'].loc[matches_df['guest'] == 'psv-eindhoven']\n",
    "spectators_scorePSVGuest = matches_df['spectators'].loc[matches_df['guest'] == 'psv-eindhoven']\n",
    "\n",
    "df_GuestPSVScoredGoalsPerMatch['Season'] = season_scorePSVGuest\n",
    "df_GuestPSVScoredGoalsPerMatch['Hosts'] = host_scorePSVGuest\n",
    "df_GuestPSVScoredGoalsPerMatch['Guests'] = guest_scorePSVGuest\n",
    "df_GuestPSVScoredGoalsPerMatch['Goals scored by host'] = hostScore_scorePSVGuest\n",
    "df_GuestPSVScoredGoalsPerMatch['Goals scored by guest'] = guestScore_scorePSVGuest\n",
    "df_GuestPSVScoredGoalsPerMatch['Stadium'] = stadium_scorePSVGuest\n",
    "df_GuestPSVScoredGoalsPerMatch['Spectators'] = spectators_scorePSVGuest\n",
    "%store df_GuestPSVScoredGoalsPerMatch"
   ]
  },
  {
   "cell_type": "markdown",
   "metadata": {},
   "source": [
    ">**<h3>PSV Eindhoven winnig a match as hosts against Ajax, <br>given the number of red flags.<h3>**"
   ]
  },
  {
   "cell_type": "markdown",
   "metadata": {},
   "source": [
    "*<h5>The cards PSV Eindhoven received as a host against AJAX<h5>*"
   ]
  },
  {
   "cell_type": "code",
   "execution_count": 605,
   "metadata": {},
   "outputs": [
    {
     "name": "stdout",
     "output_type": "stream",
     "text": [
      "Stored 'numberOfYellowRedCardsPSV' (Series)\n",
      "Stored 'df_PSVCardsOverall' (Series)\n",
      "Stored 'numberOfRedCardsPSV' (DataFrame)\n"
     ]
    }
   ],
   "source": [
    "df_PSVHostPSVCards = df_HostPsvYRCardsPerSeason[['Type_of_card', 'Season']].loc[df_HostPsvYRCardsPerSeason['Team_with_card'] == 'psv-eindhoven'].loc[df_HostPsvYRCardsPerSeason['Enemy_team'] == 'afc-ajax']\n",
    "numberOfYellowCardsPSV = df_PSVHostPSVCards.loc[df_PSVHostPSVCards['Type_of_card'] == 'Yellow'].value_counts()\n",
    "# numberOfYellowCardsPSV.where(numberOfYellowCardsPSV > 1, inplace=True)\n",
    "# numberOfYellowCardsPSV.dropna(inplace=True)\n",
    "df_PSVCardsOverall = df_PSVHostPSVCards['Season'].value_counts()\n",
    "numberOfRedCardsPSV = df_PSVHostPSVCards.loc[df_PSVHostPSVCards['Type_of_card'] != 'Yellow']\n",
    "numberOfYellowRedCardsPSV = df_PSVHostPSVCards.loc[df_PSVHostPSVCards['Type_of_card'] == 'YellowRed'].value_counts()\n",
    "%store numberOfYellowRedCardsPSV\n",
    "%store df_PSVCardsOverall\n",
    "%store numberOfRedCardsPSV"
   ]
  },
  {
   "cell_type": "markdown",
   "metadata": {},
   "source": [
    "*<h5>The cards AJAX received as a guest agains PSV<h5>* "
   ]
  },
  {
   "cell_type": "code",
   "execution_count": 606,
   "metadata": {},
   "outputs": [
    {
     "name": "stdout",
     "output_type": "stream",
     "text": [
      "Stored 'numberOfRedCardsAjax' (Series)\n",
      "Stored 'numberOfYellowRedCardsAjax' (Series)\n"
     ]
    }
   ],
   "source": [
    "df_PSVHostAjaxCards = df_HostPsvYRCardsPerSeason[['Type_of_card', 'Season']].loc[df_HostPsvYRCardsPerSeason['Team_with_card'] == 'afc-ajax']\n",
    "numberOfYellowCardsAjax = df_PSVHostAjaxCards.loc[df_PSVHostAjaxCards['Type_of_card'] == 'Yellow'].value_counts()\n",
    "# numberOfYellowCardsAjax.where(numberOfYellowCardsAjax > 1, inplace=True)\n",
    "# numberOfYellowCardsAjax.dropna(inplace=True)\n",
    "numberOfRedCardsAjax = df_PSVHostAjaxCards.loc[df_PSVHostAjaxCards['Type_of_card'] == 'Red'].value_counts()\n",
    "numberOfYellowRedCardsAjax = df_PSVHostAjaxCards.loc[df_PSVHostAjaxCards['Type_of_card'] == 'YellowRed'].value_counts()\n",
    "%store numberOfRedCardsAjax\n",
    "%store numberOfYellowRedCardsAjax"
   ]
  },
  {
   "cell_type": "markdown",
   "metadata": {},
   "source": [
    "*<h5>Goals & Cards. PSV Eindhoven Hosting vs Ajax<h5>*"
   ]
  },
  {
   "cell_type": "code",
   "execution_count": 607,
   "metadata": {},
   "outputs": [
    {
     "name": "stdout",
     "output_type": "stream",
     "text": [
      "Stored 'df_ScoresForPSVHost' (DataFrame)\n"
     ]
    }
   ],
   "source": [
    "df_ScoresForPSVHost = df_HostPSVScoredGoalsPerSeason\n",
    "df_ScoresForPSVHost = df_ScoresForPSVHost.merge(numberOfRedCardsPSV, on='Season', how ='left')\n",
    "df_ScoresForPSVHost['Type_of_card'].fillna(0, inplace = True)\n",
    "df_ScoresForPSVHost['Type_of_card'].replace(to_replace=\"Red\",value=\"1\", inplace = True)\n",
    "df_ScoresForPSVHost['Type_of_card'].replace(to_replace=\"YellowRed\",value=\"1\", inplace = True)\n",
    "df_ScoresForPSVHost.rename(columns = ({'Type_of_card': 'Red_cards_Host'}), inplace = True)\n",
    "df_ScoresForPSVHost = df_ScoresForPSVHost[['Season', 'Hosts', 'Guests', 'Team scored a goal', 'Red_cards_Host']]\n",
    "%store df_ScoresForPSVHost"
   ]
  },
  {
   "cell_type": "markdown",
   "metadata": {},
   "source": [
    ">**<h2>PSV vs. Ajax. Winning predictions<h2>**"
   ]
  },
  {
   "cell_type": "code",
   "execution_count": 608,
   "metadata": {},
   "outputs": [],
   "source": [
    "#Function to transform FTR into numeric data type\n",
    "def transformResult(row):\n",
    "    if(row.Target_team_scores_host > row.Enemy_team_scores_guest):\n",
    "        return 1\n",
    "    elif(row.Target_team_scores_host < row.Enemy_team_scores_guest):\n",
    "        return -1\n",
    "    else:\n",
    "        return 0"
   ]
  },
  {
   "cell_type": "code",
   "execution_count": 609,
   "metadata": {},
   "outputs": [
    {
     "data": {
      "text/html": [
       "<div>\n",
       "<style scoped>\n",
       "    .dataframe tbody tr th:only-of-type {\n",
       "        vertical-align: middle;\n",
       "    }\n",
       "\n",
       "    .dataframe tbody tr th {\n",
       "        vertical-align: top;\n",
       "    }\n",
       "\n",
       "    .dataframe thead th {\n",
       "        text-align: right;\n",
       "    }\n",
       "</style>\n",
       "<table border=\"1\" class=\"dataframe\">\n",
       "  <thead>\n",
       "    <tr style=\"text-align: right;\">\n",
       "      <th></th>\n",
       "      <th>season</th>\n",
       "      <th>host</th>\n",
       "      <th>guest</th>\n",
       "      <th>host_scores</th>\n",
       "      <th>guest_scores</th>\n",
       "      <th>stadium</th>\n",
       "      <th>spectators</th>\n",
       "    </tr>\n",
       "  </thead>\n",
       "  <tbody>\n",
       "    <tr>\n",
       "      <th>0</th>\n",
       "      <td>1956-1957</td>\n",
       "      <td>afc-ajax</td>\n",
       "      <td>bvc-amsterdam</td>\n",
       "      <td>2</td>\n",
       "      <td>3</td>\n",
       "      <td>de-meer-amsterdam</td>\n",
       "      <td>22.000</td>\n",
       "    </tr>\n",
       "    <tr>\n",
       "      <th>1</th>\n",
       "      <td>1956-1957</td>\n",
       "      <td>afc-ajax</td>\n",
       "      <td>fc-den-bosch</td>\n",
       "      <td>1</td>\n",
       "      <td>0</td>\n",
       "      <td>de-meer-amsterdam</td>\n",
       "      <td>18.000</td>\n",
       "    </tr>\n",
       "    <tr>\n",
       "      <th>2</th>\n",
       "      <td>1956-1957</td>\n",
       "      <td>afc-ajax</td>\n",
       "      <td>fc-utrecht</td>\n",
       "      <td>1</td>\n",
       "      <td>2</td>\n",
       "      <td>de-meer-amsterdam</td>\n",
       "      <td>14.000</td>\n",
       "    </tr>\n",
       "    <tr>\n",
       "      <th>3</th>\n",
       "      <td>1956-1957</td>\n",
       "      <td>afc-ajax</td>\n",
       "      <td>feyenoord</td>\n",
       "      <td>1</td>\n",
       "      <td>0</td>\n",
       "      <td>de-meer-amsterdam</td>\n",
       "      <td>22.000</td>\n",
       "    </tr>\n",
       "    <tr>\n",
       "      <th>4</th>\n",
       "      <td>1956-1957</td>\n",
       "      <td>afc-ajax</td>\n",
       "      <td>fortuna-54</td>\n",
       "      <td>0</td>\n",
       "      <td>2</td>\n",
       "      <td>de-meer-amsterdam</td>\n",
       "      <td>20.000</td>\n",
       "    </tr>\n",
       "    <tr>\n",
       "      <th>...</th>\n",
       "      <td>...</td>\n",
       "      <td>...</td>\n",
       "      <td>...</td>\n",
       "      <td>...</td>\n",
       "      <td>...</td>\n",
       "      <td>...</td>\n",
       "      <td>...</td>\n",
       "    </tr>\n",
       "    <tr>\n",
       "      <th>19925</th>\n",
       "      <td>2021-2022</td>\n",
       "      <td>willem-ii</td>\n",
       "      <td>rkc-waalwijk</td>\n",
       "      <td>3</td>\n",
       "      <td>1</td>\n",
       "      <td>koning-willem-ii-stadion-tilburg</td>\n",
       "      <td>4.686</td>\n",
       "    </tr>\n",
       "    <tr>\n",
       "      <th>19926</th>\n",
       "      <td>0</td>\n",
       "      <td>0</td>\n",
       "      <td>0</td>\n",
       "      <td>0</td>\n",
       "      <td>0</td>\n",
       "      <td>0</td>\n",
       "      <td>0</td>\n",
       "    </tr>\n",
       "    <tr>\n",
       "      <th>19927</th>\n",
       "      <td>2021-2022</td>\n",
       "      <td>willem-ii</td>\n",
       "      <td>sc-heerenveen</td>\n",
       "      <td>0</td>\n",
       "      <td>0</td>\n",
       "      <td>koning-willem-ii-stadion-tilburg</td>\n",
       "      <td>13.082</td>\n",
       "    </tr>\n",
       "    <tr>\n",
       "      <th>19928</th>\n",
       "      <td>2021-2022</td>\n",
       "      <td>willem-ii</td>\n",
       "      <td>sparta-rotterdam</td>\n",
       "      <td>0</td>\n",
       "      <td>3</td>\n",
       "      <td>koning-willem-ii-stadion-tilburg</td>\n",
       "      <td>13.028</td>\n",
       "    </tr>\n",
       "    <tr>\n",
       "      <th>19929</th>\n",
       "      <td>0</td>\n",
       "      <td>0</td>\n",
       "      <td>0</td>\n",
       "      <td>0</td>\n",
       "      <td>0</td>\n",
       "      <td>0</td>\n",
       "      <td>0</td>\n",
       "    </tr>\n",
       "  </tbody>\n",
       "</table>\n",
       "<p>19930 rows × 7 columns</p>\n",
       "</div>"
      ],
      "text/plain": [
       "          season       host             guest host_scores guest_scores  \\\n",
       "0      1956-1957   afc-ajax     bvc-amsterdam           2            3   \n",
       "1      1956-1957   afc-ajax      fc-den-bosch           1            0   \n",
       "2      1956-1957   afc-ajax        fc-utrecht           1            2   \n",
       "3      1956-1957   afc-ajax         feyenoord           1            0   \n",
       "4      1956-1957   afc-ajax        fortuna-54           0            2   \n",
       "...          ...        ...               ...         ...          ...   \n",
       "19925  2021-2022  willem-ii      rkc-waalwijk           3            1   \n",
       "19926          0          0                 0           0            0   \n",
       "19927  2021-2022  willem-ii     sc-heerenveen           0            0   \n",
       "19928  2021-2022  willem-ii  sparta-rotterdam           0            3   \n",
       "19929          0          0                 0           0            0   \n",
       "\n",
       "                                stadium spectators  \n",
       "0                     de-meer-amsterdam     22.000  \n",
       "1                     de-meer-amsterdam     18.000  \n",
       "2                     de-meer-amsterdam     14.000  \n",
       "3                     de-meer-amsterdam     22.000  \n",
       "4                     de-meer-amsterdam     20.000  \n",
       "...                                 ...        ...  \n",
       "19925  koning-willem-ii-stadion-tilburg      4.686  \n",
       "19926                                 0          0  \n",
       "19927  koning-willem-ii-stadion-tilburg     13.082  \n",
       "19928  koning-willem-ii-stadion-tilburg     13.028  \n",
       "19929                                 0          0  \n",
       "\n",
       "[19930 rows x 7 columns]"
      ]
     },
     "execution_count": 609,
     "metadata": {},
     "output_type": "execute_result"
    }
   ],
   "source": [
    "matches_df"
   ]
  },
  {
   "cell_type": "code",
   "execution_count": 610,
   "metadata": {},
   "outputs": [
    {
     "name": "stdout",
     "output_type": "stream",
     "text": [
      "Stored 'df_ScoresForAjaxHost' (DataFrame)\n"
     ]
    }
   ],
   "source": [
    "matches_df\n",
    "df_ScoresForAjaxHost = pd.DataFrame()\n",
    "hostTeamAjaxTarget = matches_df['host'].loc[matches_df['host']=='afc-ajax']\n",
    "enemyTeamAjaxHost = matches_df['guest'].loc[matches_df['host'] == 'afc-ajax']\n",
    "scoresAjaxHost = matches_df['host_scores'].loc[matches_df['host'] == 'afc-ajax']\n",
    "enemyTeamScoresAjaxHost = matches_df['guest_scores'].loc[matches_df['host'] == 'afc-ajax']\n",
    "hostAjaxStadium = matches_df['stadium'].loc[matches_df['host'] == 'afc-ajax']\n",
    "\n",
    "df_ScoresForAjaxHost['Target_team_host'] = hostTeamAjaxTarget\n",
    "df_ScoresForAjaxHost['Enemy_team_guest'] = enemyTeamAjaxHost\n",
    "df_ScoresForAjaxHost['Target_team_scores_host'] = scoresAjaxHost\n",
    "df_ScoresForAjaxHost['Enemy_team_scores_guest'] = enemyTeamScoresAjaxHost\n",
    "df_ScoresForAjaxHost['Stadium'] = hostAjaxStadium\n",
    "df_ScoresForAjaxHost['Winning_team'] = df_ScoresForAjaxHost.apply(lambda row: transformResult(row),axis=1)\n",
    "\n",
    "%store df_ScoresForAjaxHost"
   ]
  },
  {
   "cell_type": "markdown",
   "metadata": {},
   "source": [
    "**Predicting goals and cards of sc-cambuur VS rkc-waalwijk**\n",
    "<br>Details about the game:\n",
    "- SC-Cambuur is the host\n",
    "- cambuur stadium"
   ]
  },
  {
   "cell_type": "code",
   "execution_count": 611,
   "metadata": {},
   "outputs": [
    {
     "name": "stdout",
     "output_type": "stream",
     "text": [
      "Stored 'df_goalsPredictionCambuurHost' (DataFrame)\n"
     ]
    }
   ],
   "source": [
    "matches_df\n",
    "\n",
    "df_goalsPredictionCambuurHost = pd.DataFrame()\n",
    "matches_df\n",
    "targetTeamCambuur = matches_df['host'].loc[matches_df['host']=='sc-cambuur']\n",
    "enemyTeamCambuurHost = matches_df['guest'].loc[matches_df['host'] == 'sc-cambuur']\n",
    "scoresCambuurHost = matches_df['host_scores'].loc[matches_df['host'] == 'sc-cambuur']\n",
    "enemyTeamScoresCambuurHost = matches_df['guest_scores'].loc[matches_df['host'] == 'sc-cambuur']\n",
    "hostCambuurStadium = matches_df['stadium'].loc[matches_df['host'] == 'sc-cambuur']\n",
    "\n",
    "df_goalsPredictionCambuurHost['Target_team_host'] = targetTeamCambuur\n",
    "df_goalsPredictionCambuurHost['Enemy_team_guest'] = enemyTeamCambuurHost\n",
    "df_goalsPredictionCambuurHost['Target_team_scores_host'] = scoresCambuurHost\n",
    "df_goalsPredictionCambuurHost['Enemy_team_scores_guest'] = enemyTeamScoresCambuurHost\n",
    "df_goalsPredictionCambuurHost['Stadium'] = hostCambuurStadium\n",
    "df_goalsPredictionCambuurHost['Winning_team'] = df_goalsPredictionCambuurHost.apply(lambda row: transformResult(row),axis=1)\n",
    "%store df_goalsPredictionCambuurHost"
   ]
  },
  {
   "cell_type": "markdown",
   "metadata": {},
   "source": [
    ">**<h2>All *teams* that gets a card, sorted by seasons and type of cards**"
   ]
  },
  {
   "cell_type": "code",
   "execution_count": 612,
   "metadata": {},
   "outputs": [
    {
     "name": "stdout",
     "output_type": "stream",
     "text": [
      "Stored 'df_CardsPrediction' (DataFrame)\n"
     ]
    }
   ],
   "source": [
    "df_cardsRaw\n",
    "df_CardsPrediction = pd.DataFrame()\n",
    "yellowRedCards = df_cardsRaw['type']\n",
    "seasons = df_cardsRaw['season']\n",
    "teamThatGetsCard = df_cardsRaw['team']\n",
    "enemyTeam = df_cardsRaw['guest']\n",
    "hostingTeam = df_cardsRaw['host']\n",
    "\n",
    "df_CardsPrediction['Season'] = seasons\n",
    "df_CardsPrediction['Target_team_host'] = hostingTeam\n",
    "df_CardsPrediction['Enemy_team_guest'] = enemyTeam\n",
    "df_CardsPrediction['Team_with_card'] = teamThatGetsCard\n",
    "df_CardsPrediction['Type_of_card'] = yellowRedCards\n",
    "\n",
    "df_CardsPrediction['Target_team_host'].replace(to_replace=\"excelsior-rotterdam\",value=\"sbv-excelsior\", inplace = True)\n",
    "df_CardsPrediction['Target_team_host'].replace(to_replace=\"willem-ii\",value=\"willem-ii-tilburg\", inplace = True)\n",
    "df_CardsPrediction['Target_team_host'].replace(to_replace=\"mvv\",value=\"mvv-maastricht\", inplace = True)\n",
    "df_CardsPrediction['Target_team_host'].replace(to_replace=\"vitesse\",value=\"vitesse-arnhem\", inplace = True)\n",
    "df_CardsPrediction['Target_team_host'].replace(to_replace=\"vitesse-arnheim\",value=\"vitesse-arnhem\", inplace = True)\n",
    "df_CardsPrediction['Target_team_host'].replace(to_replace=\"cambuur-leeuwarden\",value=\"sc-cambuur\", inplace = True)\n",
    "df_CardsPrediction['Target_team_host'].replace(to_replace=\"ajax-amsterdam\",value=\"afc-ajax\", inplace = True)\n",
    "df_CardsPrediction['Target_team_host'].replace(to_replace=\"feyenoord-rotterdam\",value=\"feyenoord\", inplace = True)\n",
    "df_CardsPrediction['Target_team_host'].replace(to_replace=\"go-ahead-eagles_2\",value=\"go-ahead-eagles\", inplace = True)\n",
    "\n",
    "df_CardsPrediction['Enemy_team_guest'].replace(to_replace=\"excelsior-rotterdam\",value=\"sbv-excelsior\", inplace = True)\n",
    "df_CardsPrediction['Enemy_team_guest'].replace(to_replace=\"willem-ii\",value=\"willem-ii-tilburg\", inplace = True)\n",
    "df_CardsPrediction['Enemy_team_guest'].replace(to_replace=\"mvv\",value=\"mvv-maastricht\", inplace = True)\n",
    "df_CardsPrediction['Enemy_team_guest'].replace(to_replace=\"vitesse\",value=\"vitesse-arnhem\", inplace = True)\n",
    "df_CardsPrediction['Enemy_team_guest'].replace(to_replace=\"vitesse-arnheim\",value=\"vitesse-arnhem\", inplace = True)\n",
    "df_CardsPrediction['Enemy_team_guest'].replace(to_replace=\"cambuur-leeuwarden\",value=\"sc-cambuur\", inplace = True)\n",
    "df_CardsPrediction['Enemy_team_guest'].replace(to_replace=\"ajax-amsterdam\",value=\"afc-ajax\", inplace = True)\n",
    "df_CardsPrediction['Enemy_team_guest'].replace(to_replace=\"feyenoord-rotterdam\",value=\"feyenoord\", inplace = True)\n",
    "df_CardsPrediction['Enemy_team_guest'].replace(to_replace=\"go-ahead-eagles_2\",value=\"go-ahead-eagles\", inplace = True)\n",
    "\n",
    "df_CardsPrediction['Team_with_card'].replace(to_replace=\"excelsior-rotterdam\",value=\"sbv-excelsior\", inplace = True)\n",
    "df_CardsPrediction['Team_with_card'].replace(to_replace=\"willem-ii\",value=\"willem-ii-tilburg\", inplace = True)\n",
    "df_CardsPrediction['Team_with_card'].replace(to_replace=\"mvv\",value=\"mvv-maastricht\", inplace = True)\n",
    "df_CardsPrediction['Team_with_card'].replace(to_replace=\"vitesse\",value=\"vitesse-arnhem\", inplace = True)\n",
    "df_CardsPrediction['Team_with_card'].replace(to_replace=\"vitesse-arnheim\",value=\"vitesse-arnhem\", inplace = True)\n",
    "df_CardsPrediction['Team_with_card'].replace(to_replace=\"cambuur-leeuwarden\",value=\"sc-cambuur\", inplace = True)\n",
    "df_CardsPrediction['Team_with_card'].replace(to_replace=\"ajax-amsterdam\",value=\"afc-ajax\", inplace = True)\n",
    "df_CardsPrediction['Team_with_card'].replace(to_replace=\"feyenoord-rotterdam\",value=\"feyenoord\", inplace = True)\n",
    "df_CardsPrediction['Team_with_card'].replace(to_replace=\"go-ahead-eagles_2\",value=\"go-ahead-eagles\", inplace = True)\n",
    "%store df_CardsPrediction"
   ]
  },
  {
   "cell_type": "markdown",
   "metadata": {},
   "source": [
    ">**<h2>If Ajax is host, *teams* that gets a card, sorted by seasons and type of cards**"
   ]
  },
  {
   "cell_type": "code",
   "execution_count": 613,
   "metadata": {},
   "outputs": [
    {
     "name": "stdout",
     "output_type": "stream",
     "text": [
      "Stored 'df_goals_prediction_all_teams' (DataFrame)\n"
     ]
    }
   ],
   "source": [
    "matches_df\n",
    "\n",
    "df_goals_prediction_all_teams = pd.DataFrame()\n",
    "matches_df\n",
    "targetTeams = matches_df['host']\n",
    "enemyTeams = matches_df['guest']\n",
    "scoresTargetTeams = matches_df['host_scores']\n",
    "enemyScores = matches_df['guest_scores']\n",
    "hostingStadium = matches_df['stadium']\n",
    "\n",
    "df_goals_prediction_all_teams['Target_team_host'] = targetTeams\n",
    "df_goals_prediction_all_teams['Enemy_team_guest'] = enemyTeams\n",
    "df_goals_prediction_all_teams['Target_team_scores_host'] = scoresTargetTeams\n",
    "df_goals_prediction_all_teams['Enemy_team_scores_guest'] = enemyScores\n",
    "df_goals_prediction_all_teams['Stadium'] = hostingStadium\n",
    "df_goals_prediction_all_teams['Winning_team'] = df_goals_prediction_all_teams.apply(lambda row: transformResult(row),axis=1)\n",
    "df_goals_prediction_all_teams = df_goals_prediction_all_teams[(df_goals_prediction_all_teams.T != 0).any()]\n",
    "%store df_goals_prediction_all_teams"
   ]
  }
 ],
 "metadata": {
  "interpreter": {
   "hash": "d406864f2ee78ecc67afccccd0a48c216f41ca3a0f9ca739a0b9d8b15ae422ba"
  },
  "kernelspec": {
   "display_name": "Python 3.10.2 64-bit",
   "language": "python",
   "name": "python3"
  },
  "language_info": {
   "codemirror_mode": {
    "name": "ipython",
    "version": 3
   },
   "file_extension": ".py",
   "mimetype": "text/x-python",
   "name": "python",
   "nbconvert_exporter": "python",
   "pygments_lexer": "ipython3",
   "version": "3.10.2"
  },
  "orig_nbformat": 4
 },
 "nbformat": 4,
 "nbformat_minor": 2
}
