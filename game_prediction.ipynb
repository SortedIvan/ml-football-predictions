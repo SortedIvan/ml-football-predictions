{
  "cells": [
    {
      "cell_type": "markdown",
      "metadata": {
        "id": "Ykeh0EF9FNdA"
      },
      "source": [
        "> **<h1>Prediction of football game outcome, given the following csv (comma  seperated) files:**\n",
        "- Information about home/guest cards, player given a yellow/red card, etc.\n",
        "- Goals: time of scoring, goals per minute, number of goals per game\n",
        "- Players: player names & teams, goals scored, etc.\n",
        "- Football matches: containing information about different stadiums, game time, goals and teams, etc.\n",
        "- Subs\n",
        "\n",
        "The research/prediction study is conducted in the following matter:\n",
        "- Cleaning / researching & reading files\n",
        "- Counting values / plotting\n",
        "- Possible learn/award system for ML"
      ]
    },
    {
      "cell_type": "markdown",
      "metadata": {},
      "source": [
        "># **Data cleaning**"
      ]
    },
    {
      "cell_type": "code",
      "execution_count": 1,
      "metadata": {},
      "outputs": [],
      "source": [
        "import numpy as np\n",
        "import pandas as pd\n",
        "from IPython.display import display\n",
        "%store -r df_cardsRaw\n",
        "%store -r goals_df\n",
        "%store -r matchGoals_df\n",
        "%store -r scoredGoals_df\n",
        "%store -r matches_df\n",
        "%store -r goalsScoredByHomeTeam_df\n",
        "%store -r goalsScoredByGuestTeam_df\n",
        "%store -r matchSpectators_df\n",
        "%store -r guestTeams_df\n",
        "%store -r hostingTeams_df\n"
      ]
    },
    {
      "cell_type": "markdown",
      "metadata": {
        "id": "MW_AUsRzD7-6"
      },
      "source": [
        "># **Predictions**"
      ]
    },
    {
      "cell_type": "markdown",
      "metadata": {
        "id": "bur7OR5JMwel"
      },
      "source": [
        "TO DO: Prediction for game Ajax vs PSV\n",
        "- How many people are going to attend the stadium\n",
        "- How many cards?\n",
        "- Are they going to play at home or guesting?\n",
        "- What are the scores of the teams?\n",
        "- How does each team perform against other teams?\n",
        "- ACTUAL PREDICTION: \n",
        "Who wins the game? How many goals? Maybe flags?\n"
      ]
    },
    {
      "cell_type": "markdown",
      "metadata": {},
      "source": [
        "<h3>PSV vs Ajax. Counting all of the goals<h3>"
      ]
    },
    {
      "cell_type": "code",
      "execution_count": 2,
      "metadata": {},
      "outputs": [],
      "source": [
        "%store -r goalsOfBothTeamsAgainstEachother\n",
        "%store -r goalsOfPsvVsAjax\n",
        "%store -r goalsOfAjaxVsPsv\n",
        "%store -r df_HostAjaxScoredGoalsPerSeason\n",
        "%store -r df_GuestAjaxScoredGoalsPerSeason\n",
        "%store -r df_HostPSVScoredGoalsPerSeason\n",
        "%store -r df_GuestPSVScoredGoalsPerSeason\n",
        "%store -r yellowRedCardsAjax\n",
        "%store -r yellowRedCardsPsv\n",
        "%store -r yellowRedCardsBothTeams\n",
        "%store -r df_HostAjaxYRCardsPerSeason\n",
        "%store -r df_GuestAjaxYRCardsPerSeason\n",
        "%store -r df_HostPsvYRCardsPerSeason\n",
        "%store -r df_GuestPsvYRCardsPerSeason\n",
        "%store -r df_HostAjaxScoredGoalsPerMatch\n",
        "%store -r df_GuestAjaxScoredGoalsPerMatch\n",
        "%store -r df_HostPSVScoredGoalsPerMatch\n",
        "%store -r df_GuestPSVScoredGoalsPerMatch"
      ]
    },
    {
      "cell_type": "markdown",
      "metadata": {},
      "source": [
        ">**<h3>Probability of PSV Eindhoven getting a yellow card as a hosting team<h3>**"
      ]
    },
    {
      "cell_type": "code",
      "execution_count": 3,
      "metadata": {},
      "outputs": [
        {
          "data": {
            "text/plain": [
              "0.6805797101449276"
            ]
          },
          "execution_count": 3,
          "metadata": {},
          "output_type": "execute_result"
        }
      ],
      "source": [
        "from sklearn.preprocessing import LabelEncoder\n",
        "from sklearn import tree\n",
        "psv_host_inputs = df_HostPsvYRCardsPerSeason.drop(['Team_with_card', 'Season'], axis = 'columns')\n",
        "psv_host_target = df_HostPsvYRCardsPerSeason['Team_with_card']\n",
        "psv_host_lab_target_team = LabelEncoder()\n",
        "psv_host_lab_enemy_team = LabelEncoder()\n",
        "psv_host_lab_type_of_card = LabelEncoder()\n",
        "psv_host_inputs['target_team_n'] = psv_host_lab_target_team.fit_transform(psv_host_inputs['Target_team'])\n",
        "psv_host_inputs['enemy_team_n'] = psv_host_lab_target_team.fit_transform(psv_host_inputs['Enemy_team'])\n",
        "psv_host_inputs['type_of_card_n'] = psv_host_lab_target_team.fit_transform(psv_host_inputs['Type_of_card'])\n",
        "psv_host_inputs_n = psv_host_inputs.drop(['Target_team','Enemy_team','Type_of_card'],axis = 'columns')\n",
        "psv_host_model = tree.DecisionTreeClassifier()\n",
        "psv_host_model.fit(psv_host_inputs_n,psv_host_target)\n",
        "psv_host_model.score(psv_host_inputs_n,psv_host_target)\n"
      ]
    },
    {
      "cell_type": "markdown",
      "metadata": {},
      "source": [
        "**#1 == target team <br> #2 == enemy team <br> #3 == type of card**<br> Which team is more likely to get the card during the game<br>In this case SC Cambuur is more likely to receive a yellow card that PSV (with an accuracy of 68%)"
      ]
    },
    {
      "cell_type": "code",
      "execution_count": 4,
      "metadata": {},
      "outputs": [
        {
          "name": "stderr",
          "output_type": "stream",
          "text": [
            "C:\\Users\\Lenovo\\AppData\\Local\\Programs\\Python\\Python310\\lib\\site-packages\\sklearn\\base.py:450: UserWarning: X does not have valid feature names, but DecisionTreeClassifier was fitted with feature names\n",
            "  warnings.warn(\n"
          ]
        },
        {
          "data": {
            "text/plain": [
              "array(['sc-cambuur'], dtype=object)"
            ]
          },
          "execution_count": 4,
          "metadata": {},
          "output_type": "execute_result"
        }
      ],
      "source": [
        "#0, 28, 1 - psv-eindhoven, playing against sc-cambuur, yellow-card, who is most likely to get yellow\n",
        "psv_host_model.predict([[0,28,1]])"
      ]
    },
    {
      "cell_type": "markdown",
      "metadata": {},
      "source": [
        ">**<h3>Probability of Ajax getting a yellow card as a hosting team<h3>**"
      ]
    },
    {
      "cell_type": "code",
      "execution_count": 5,
      "metadata": {},
      "outputs": [
        {
          "data": {
            "text/plain": [
              "0.7095170454545454"
            ]
          },
          "execution_count": 5,
          "metadata": {},
          "output_type": "execute_result"
        }
      ],
      "source": [
        "ajax_host_inputs = df_HostAjaxYRCardsPerSeason.drop(['Team_with_card', 'Season'], axis = 'columns')\n",
        "ajax_host_target = df_HostAjaxYRCardsPerSeason['Team_with_card']\n",
        "ajax_host_lab_target_team = LabelEncoder()\n",
        "ajax_host_lab_enemy_team = LabelEncoder()\n",
        "ajax_host_lab_type_of_card = LabelEncoder()\n",
        "ajax_host_inputs['target_team_n'] = ajax_host_lab_target_team.fit_transform(ajax_host_inputs['Target_team'])\n",
        "ajax_host_inputs['enemy_team_n'] = ajax_host_lab_target_team.fit_transform(ajax_host_inputs['Enemy_team'])\n",
        "ajax_host_inputs['type_of_card_n'] = ajax_host_lab_target_team.fit_transform(ajax_host_inputs['Type_of_card'])\n",
        "ajax_host_inputs.head()\n",
        "ajax_host_inputs_n = ajax_host_inputs.drop(['Target_team','Enemy_team','Type_of_card'],axis = 'columns')\n",
        "ajax_host_model = tree.DecisionTreeClassifier()\n",
        "ajax_host_model.fit(ajax_host_inputs_n,ajax_host_target)\n",
        "ajax_host_model.score(ajax_host_inputs_n, ajax_host_target)"
      ]
    },
    {
      "cell_type": "markdown",
      "metadata": {},
      "source": [
        "**#1 == target team <br> #2 == enemy team <br> #3 == type of card**<br> Which team is more likely to get the card during the game<br>In this case FC Dordrecht is more likely to receive a yellow card that Ajax (with an accuracy of 71%)"
      ]
    },
    {
      "cell_type": "code",
      "execution_count": 6,
      "metadata": {},
      "outputs": [
        {
          "name": "stderr",
          "output_type": "stream",
          "text": [
            "C:\\Users\\Lenovo\\AppData\\Local\\Programs\\Python\\Python310\\lib\\site-packages\\sklearn\\base.py:450: UserWarning: X does not have valid feature names, but DecisionTreeClassifier was fitted with feature names\n",
            "  warnings.warn(\n"
          ]
        },
        {
          "data": {
            "text/plain": [
              "array(['fc-dordrecht'], dtype=object)"
            ]
          },
          "execution_count": 6,
          "metadata": {},
          "output_type": "execute_result"
        }
      ],
      "source": [
        "ajax_host_model.predict([[0,7,0]])"
      ]
    },
    {
      "cell_type": "markdown",
      "metadata": {},
      "source": [
        ">**<h3>Probability of PSV Eindhoven getting a yellow card as a guest team<h3>**"
      ]
    },
    {
      "cell_type": "code",
      "execution_count": 7,
      "metadata": {},
      "outputs": [
        {
          "data": {
            "text/plain": [
              "0.582903040734366"
            ]
          },
          "execution_count": 7,
          "metadata": {},
          "output_type": "execute_result"
        }
      ],
      "source": [
        "psv_guest_inputs = df_GuestPsvYRCardsPerSeason.drop(['Team_with_card', 'Season'], axis = 'columns')\n",
        "psv_guest_target = df_GuestPsvYRCardsPerSeason['Team_with_card']\n",
        "psv_guest_lab_target_team = LabelEncoder()\n",
        "psv_guest_lab_enemy_team = LabelEncoder()\n",
        "psv_guest_lab_type_of_card = LabelEncoder()\n",
        "psv_guest_inputs['target_team_n'] = psv_guest_lab_target_team.fit_transform(psv_guest_inputs['Target_team'])\n",
        "psv_guest_inputs['enemy_team_n'] = psv_guest_lab_target_team.fit_transform(psv_guest_inputs['Enemy_team'])\n",
        "psv_guest_inputs['type_of_card_n'] = psv_guest_lab_target_team.fit_transform(psv_guest_inputs['Type_of_card'])\n",
        "psv_guest_inputs.head()\n",
        "psv_guest_inputs_n = psv_guest_inputs.drop(['Target_team','Enemy_team','Type_of_card'],axis = 'columns')\n",
        "psv_guest_model = tree.DecisionTreeClassifier()\n",
        "psv_guest_model.fit(psv_guest_inputs_n, psv_guest_target)\n",
        "psv_guest_model.score(psv_guest_inputs_n, psv_guest_target)"
      ]
    },
    {
      "cell_type": "markdown",
      "metadata": {},
      "source": [
        "**#1 == target team <br> #2 == enemy team <br> #3 == type of card**<br> Which team is more likely to get the card during the game<br>In this case De Graafschap is more likely to receive a yellow card that PSV (with an accuracy of 58%)"
      ]
    },
    {
      "cell_type": "code",
      "execution_count": 8,
      "metadata": {},
      "outputs": [
        {
          "name": "stderr",
          "output_type": "stream",
          "text": [
            "C:\\Users\\Lenovo\\AppData\\Local\\Programs\\Python\\Python310\\lib\\site-packages\\sklearn\\base.py:450: UserWarning: X does not have valid feature names, but DecisionTreeClassifier was fitted with feature names\n",
            "  warnings.warn(\n"
          ]
        },
        {
          "data": {
            "text/plain": [
              "array(['de-graafschap'], dtype=object)"
            ]
          },
          "execution_count": 8,
          "metadata": {},
          "output_type": "execute_result"
        }
      ],
      "source": [
        "psv_guest_model.predict([[0, 5, 0]])"
      ]
    },
    {
      "cell_type": "markdown",
      "metadata": {},
      "source": [
        ">**<h3>Probability of Ajax getting a yellow card as a guest team<h3>**"
      ]
    },
    {
      "cell_type": "code",
      "execution_count": 9,
      "metadata": {},
      "outputs": [
        {
          "data": {
            "text/plain": [
              "0.568569746909947"
            ]
          },
          "execution_count": 9,
          "metadata": {},
          "output_type": "execute_result"
        }
      ],
      "source": [
        "ajax_guest_inputs = df_GuestAjaxYRCardsPerSeason.drop(['Team_with_card', 'Season'], axis = 'columns')\n",
        "ajax_guest_target = df_GuestAjaxYRCardsPerSeason['Team_with_card']\n",
        "ajax_guest_lab_target_team = LabelEncoder()\n",
        "ajax_guest_lab_enemy_team = LabelEncoder()\n",
        "ajax_guest_lab_type_of_card = LabelEncoder()\n",
        "ajax_guest_inputs['target_team_n'] = ajax_guest_lab_target_team.fit_transform(ajax_guest_inputs['Target_team'])\n",
        "ajax_guest_inputs['enemy_team_n'] = ajax_guest_lab_target_team.fit_transform(ajax_guest_inputs['Enemy_team'])\n",
        "ajax_guest_inputs['type_of_card_n'] = ajax_guest_lab_target_team.fit_transform(ajax_guest_inputs['Type_of_card'])\n",
        "ajax_guest_inputs.head()\n",
        "ajax_guest_inputs_n = ajax_guest_inputs.drop(['Target_team','Enemy_team','Type_of_card'],axis = 'columns')\n",
        "ajax_guest_model = tree.DecisionTreeClassifier()\n",
        "ajax_guest_model.fit(ajax_guest_inputs_n,ajax_guest_target)\n",
        "ajax_guest_model.score(ajax_guest_inputs_n, ajax_guest_target)"
      ]
    },
    {
      "cell_type": "markdown",
      "metadata": {},
      "source": [
        "**#1 == target team <br> #2 == enemy team <br> #3 == type of card**<br> Which team is more likely to get the card during the game<br>In this case FC Den Bosch is more likely to receive a yellow card that ajax (with an accuracy of 57%)"
      ]
    },
    {
      "cell_type": "code",
      "execution_count": 10,
      "metadata": {},
      "outputs": [
        {
          "name": "stderr",
          "output_type": "stream",
          "text": [
            "C:\\Users\\Lenovo\\AppData\\Local\\Programs\\Python\\Python310\\lib\\site-packages\\sklearn\\base.py:450: UserWarning: X does not have valid feature names, but DecisionTreeClassifier was fitted with feature names\n",
            "  warnings.warn(\n"
          ]
        },
        {
          "data": {
            "text/plain": [
              "array(['fc-den-bosch'], dtype=object)"
            ]
          },
          "execution_count": 10,
          "metadata": {},
          "output_type": "execute_result"
        }
      ],
      "source": [
        "ajax_guest_model.predict([[0, 5, 0]])"
      ]
    },
    {
      "cell_type": "markdown",
      "metadata": {},
      "source": [
        ">**<h3>Probability of Ajax scoring a goal as a host team in a given minute<h3>**"
      ]
    },
    {
      "cell_type": "code",
      "execution_count": 11,
      "metadata": {},
      "outputs": [
        {
          "data": {
            "text/plain": [
              "0.8688066992323796"
            ]
          },
          "execution_count": 11,
          "metadata": {},
          "output_type": "execute_result"
        }
      ],
      "source": [
        "ajax_host_goals_inputs = df_HostAjaxScoredGoalsPerSeason.drop(['Team scored a goal', 'Player scored the goal', 'Season'], axis = 'columns')\n",
        "ajax_host_goals_target = df_HostAjaxScoredGoalsPerSeason['Team scored a goal']\n",
        "ajax_host_goals_lab_target_team = LabelEncoder()\n",
        "ajax_host_goals_lab_enemy_team = LabelEncoder()\n",
        "ajax_host_goals_lab_minute_of_goal = LabelEncoder()\n",
        "ajax_host_goals_inputs['target_team_n'] = ajax_host_goals_lab_target_team.fit_transform(ajax_host_goals_inputs['Hosts'])\n",
        "ajax_host_goals_inputs['enemy_team_n'] = ajax_host_goals_lab_target_team.fit_transform(ajax_host_goals_inputs['Guests'])\n",
        "ajax_host_goals_inputs['minute_of_goal'] = ajax_host_goals_lab_minute_of_goal.fit_transform(ajax_host_goals_inputs['Minute of scored goal'])\n",
        "ajax_host_goals_inputs.head()\n",
        "ajax_host_goals_inputs_n = ajax_host_goals_inputs.drop(['Hosts','Guests', 'Minute of scored goal'],axis = 'columns')\n",
        "ajax_host_goals_model = tree.DecisionTreeClassifier()\n",
        "ajax_host_goals_model.fit(ajax_host_goals_inputs_n,ajax_host_goals_target)\n",
        "ajax_host_goals_model.score(ajax_host_goals_inputs_n, ajax_host_goals_target)"
      ]
    },
    {
      "cell_type": "markdown",
      "metadata": {},
      "source": [
        "**Ajax vs. PSV Eindhoven** <br>Ajax - host, PSV - guest<br> Prediction says Ajax is more likely to score a goal the 90th minute of the match (with an accuracy of 87%)"
      ]
    },
    {
      "cell_type": "code",
      "execution_count": 12,
      "metadata": {},
      "outputs": [
        {
          "name": "stderr",
          "output_type": "stream",
          "text": [
            "C:\\Users\\Lenovo\\AppData\\Local\\Programs\\Python\\Python310\\lib\\site-packages\\sklearn\\base.py:450: UserWarning: X does not have valid feature names, but DecisionTreeClassifier was fitted with feature names\n",
            "  warnings.warn(\n"
          ]
        },
        {
          "data": {
            "text/plain": [
              "array(['afc-ajax'], dtype=object)"
            ]
          },
          "execution_count": 12,
          "metadata": {},
          "output_type": "execute_result"
        }
      ],
      "source": [
        "ajax_host_goals_model.predict([[0, 1, 89]])"
      ]
    },
    {
      "cell_type": "markdown",
      "metadata": {},
      "source": [
        ">**<h3>Probability of Ajax scoring a goal as a guest team in a given minute<h3>**"
      ]
    },
    {
      "cell_type": "code",
      "execution_count": 13,
      "metadata": {},
      "outputs": [
        {
          "data": {
            "text/plain": [
              "0.8242748521543227"
            ]
          },
          "execution_count": 13,
          "metadata": {},
          "output_type": "execute_result"
        }
      ],
      "source": [
        "ajax_guest_goals_inputs = df_GuestAjaxScoredGoalsPerSeason.drop(['Team scored a goal', 'Player scored the goal', 'Season', ], axis = 'columns')\n",
        "ajax_guest_goals_target = df_GuestAjaxScoredGoalsPerSeason['Team scored a goal']\n",
        "ajax_guest_goals_lab_target_team = LabelEncoder()\n",
        "ajax_guest_goals_lab_enemy_team = LabelEncoder()\n",
        "ajax_guest_goals_lab_minute_of_goal = LabelEncoder()\n",
        "ajax_guest_goals_inputs['target_team_n'] = ajax_guest_goals_lab_target_team.fit_transform(ajax_guest_goals_inputs['Guests'])\n",
        "ajax_guest_goals_inputs['enemy_team_n'] = ajax_guest_goals_lab_target_team.fit_transform(ajax_guest_goals_inputs['Hosts'])\n",
        "ajax_guest_goals_inputs['minute_of_goal'] = ajax_guest_goals_lab_minute_of_goal.fit_transform(ajax_guest_goals_inputs['Minute of scored goal'])\n",
        "ajax_guest_goals_inputs.head()\n",
        "ajax_guest_goals_inputs_n = ajax_guest_goals_inputs.drop(['Hosts','Guests', 'Minute of scored goal'],axis = 'columns')\n",
        "ajax_guest_goals_model = tree.DecisionTreeClassifier()\n",
        "ajax_guest_goals_model.fit(ajax_guest_goals_inputs_n, ajax_guest_goals_target)\n",
        "ajax_guest_goals_model.score(ajax_guest_goals_inputs_n, ajax_guest_goals_target)"
      ]
    },
    {
      "cell_type": "markdown",
      "metadata": {},
      "source": [
        "**Ajax vs. PSV Eindhoven** <br>PSV - host, Ajax - guest<br> Prediction says Ajax is more likely to score a goal the 45th minute of the match (with an accuracy of 82%)"
      ]
    },
    {
      "cell_type": "code",
      "execution_count": 14,
      "metadata": {},
      "outputs": [
        {
          "name": "stderr",
          "output_type": "stream",
          "text": [
            "C:\\Users\\Lenovo\\AppData\\Local\\Programs\\Python\\Python310\\lib\\site-packages\\sklearn\\base.py:450: UserWarning: X does not have valid feature names, but DecisionTreeClassifier was fitted with feature names\n",
            "  warnings.warn(\n"
          ]
        },
        {
          "data": {
            "text/plain": [
              "array(['afc-ajax'], dtype=object)"
            ]
          },
          "execution_count": 14,
          "metadata": {},
          "output_type": "execute_result"
        }
      ],
      "source": [
        "ajax_guest_goals_model.predict([[0, 1, 44]])"
      ]
    },
    {
      "cell_type": "markdown",
      "metadata": {},
      "source": [
        ">**<h3>Probability of PSV Eindhoven scoring a goal as a host team in a given minute<h3>**"
      ]
    },
    {
      "cell_type": "code",
      "execution_count": 15,
      "metadata": {},
      "outputs": [
        {
          "data": {
            "text/plain": [
              "0.8547854785478548"
            ]
          },
          "execution_count": 15,
          "metadata": {},
          "output_type": "execute_result"
        }
      ],
      "source": [
        "psv_host_goals_inputs = df_HostPSVScoredGoalsPerSeason.drop(['Team scored a goal', 'Player scored the goal', 'Season'], axis = 'columns')\n",
        "psv_host_goals_target = df_HostPSVScoredGoalsPerSeason['Team scored a goal']\n",
        "psv_host_goals_lab_target_team = LabelEncoder()\n",
        "psv_host_goals_lab_enemy_team = LabelEncoder()\n",
        "psv_host_goals_lab_minute_of_goal = LabelEncoder()\n",
        "psv_host_goals_inputs['target_team_n'] = psv_host_goals_lab_target_team.fit_transform(psv_host_goals_inputs['Hosts'])\n",
        "psv_host_goals_inputs['enemy_team_n'] = psv_host_goals_lab_target_team.fit_transform(psv_host_goals_inputs['Guests'])\n",
        "psv_host_goals_inputs['minute_of_goal'] = psv_host_goals_lab_minute_of_goal.fit_transform(psv_host_goals_inputs['Minute of scored goal'])\n",
        "psv_host_goals_inputs.head()\n",
        "psv_host_goals_inputs_n = psv_host_goals_inputs.drop(['Hosts','Guests', 'Minute of scored goal'],axis = 'columns')\n",
        "psv_host_goals_model = tree.DecisionTreeClassifier()\n",
        "psv_host_goals_model.fit(psv_host_goals_inputs_n, psv_host_goals_target)\n",
        "psv_host_goals_model.score(psv_host_goals_inputs_n, psv_host_goals_target)"
      ]
    },
    {
      "cell_type": "markdown",
      "metadata": {},
      "source": [
        "**PSV Eindhoven vs. Ajax** <br>PSV - host, Ajax - guest<br> Prediction says PSV Eindhoven is more likely to score a goal the fifth minute of the match (with an accuracy of 85%)"
      ]
    },
    {
      "cell_type": "code",
      "execution_count": 16,
      "metadata": {},
      "outputs": [
        {
          "name": "stderr",
          "output_type": "stream",
          "text": [
            "C:\\Users\\Lenovo\\AppData\\Local\\Programs\\Python\\Python310\\lib\\site-packages\\sklearn\\base.py:450: UserWarning: X does not have valid feature names, but DecisionTreeClassifier was fitted with feature names\n",
            "  warnings.warn(\n"
          ]
        },
        {
          "data": {
            "text/plain": [
              "array(['psv-eindhoven'], dtype=object)"
            ]
          },
          "execution_count": 16,
          "metadata": {},
          "output_type": "execute_result"
        }
      ],
      "source": [
        "psv_host_goals_model.predict([[0, 1, 4]])"
      ]
    },
    {
      "cell_type": "markdown",
      "metadata": {},
      "source": [
        ">**<h3>Probability of PSV Eindhoven scoring a goal as a guest team in a given minute<h3>**"
      ]
    },
    {
      "cell_type": "code",
      "execution_count": 17,
      "metadata": {},
      "outputs": [
        {
          "data": {
            "text/plain": [
              "0.8190421565815887"
            ]
          },
          "execution_count": 17,
          "metadata": {},
          "output_type": "execute_result"
        }
      ],
      "source": [
        "psv_guest_goals_inputs = df_GuestPSVScoredGoalsPerSeason.drop(['Team scored a goal', 'Player scored the goal', 'Season'], axis = 'columns')\n",
        "psv_guest_goals_target = df_GuestPSVScoredGoalsPerSeason['Team scored a goal']\n",
        "psv_guest_goals_lab_target_team = LabelEncoder()\n",
        "psv_guest_goals_lab_enemy_team = LabelEncoder()\n",
        "psv_guest_goals_lab_minute_of_goal = LabelEncoder()\n",
        "psv_guest_goals_inputs['target_team_n'] = psv_guest_goals_lab_target_team.fit_transform(psv_guest_goals_inputs['Guests'])\n",
        "psv_guest_goals_inputs['enemy_team_n'] = psv_guest_goals_lab_target_team.fit_transform(psv_guest_goals_inputs['Hosts'])\n",
        "psv_guest_goals_inputs['minute_of_goal'] = psv_guest_goals_lab_minute_of_goal.fit_transform(psv_guest_goals_inputs['Minute of scored goal'])\n",
        "psv_guest_goals_inputs.head()\n",
        "psv_guest_goals_inputs_n = psv_guest_goals_inputs.drop(['Hosts','Guests', 'Minute of scored goal'],axis = 'columns')\n",
        "psv_guest_goals_model = tree.DecisionTreeClassifier()\n",
        "psv_guest_goals_model.fit(psv_guest_goals_inputs_n, psv_guest_goals_target)\n",
        "psv_guest_goals_model.score(psv_guest_goals_inputs_n, psv_guest_goals_target)"
      ]
    },
    {
      "cell_type": "markdown",
      "metadata": {},
      "source": [
        "**Ajax vs PSV Eindhoven** <br> Ajax - host, PSV - guest <br> Prediction says Ajax is more likely to score a goal the second minute of the match (with an accuracy of 82%)"
      ]
    },
    {
      "cell_type": "code",
      "execution_count": 18,
      "metadata": {},
      "outputs": [
        {
          "name": "stderr",
          "output_type": "stream",
          "text": [
            "C:\\Users\\Lenovo\\AppData\\Local\\Programs\\Python\\Python310\\lib\\site-packages\\sklearn\\base.py:450: UserWarning: X does not have valid feature names, but DecisionTreeClassifier was fitted with feature names\n",
            "  warnings.warn(\n"
          ]
        },
        {
          "data": {
            "text/plain": [
              "array(['afc-ajax'], dtype=object)"
            ]
          },
          "execution_count": 18,
          "metadata": {},
          "output_type": "execute_result"
        }
      ],
      "source": [
        "psv_guest_goals_model.predict([[0, 1, 1]])"
      ]
    },
    {
      "cell_type": "markdown",
      "metadata": {},
      "source": [
        ">**<h3>Probability of PSV Eindhoven winnig a match as hosts against Ajax, <br>given the number of red flags.<h3>**"
      ]
    },
    {
      "cell_type": "code",
      "execution_count": 19,
      "metadata": {},
      "outputs": [],
      "source": [
        "%store -r numberOfYellowRedCardsPSV\n",
        "%store -r df_PSVCardsOverall\n",
        "%store -r numberOfRedCardsPSV\n",
        "%store -r numberOfYellowRedCardsAjax\n",
        "%store -r numberOfRedCardsAjax\n",
        "%store -r df_ScoresForPSVHost\n"
      ]
    },
    {
      "cell_type": "markdown",
      "metadata": {},
      "source": [
        ">**<h4>PSV Eindhoven hosing. Chance of winnig against Ajax given having received a red flag<h4>**"
      ]
    },
    {
      "cell_type": "code",
      "execution_count": 20,
      "metadata": {},
      "outputs": [],
      "source": [
        "df_PSVHostPSVWinPSVRedCard = df_ScoresForPSVHost.loc[df_ScoresForPSVHost['Red_cards_Host'] == '1']"
      ]
    },
    {
      "cell_type": "code",
      "execution_count": 21,
      "metadata": {},
      "outputs": [
        {
          "data": {
            "text/plain": [
              "0.8075601374570447"
            ]
          },
          "execution_count": 21,
          "metadata": {},
          "output_type": "execute_result"
        }
      ],
      "source": [
        "psv_redf_goals_inputs = df_PSVHostPSVWinPSVRedCard.drop(['Team scored a goal', 'Season', 'Red_cards_Host'], axis = 'columns')\n",
        "psv_redf_goals_target = df_PSVHostPSVWinPSVRedCard['Team scored a goal']\n",
        "psv_redf_goals_lab_target_team = LabelEncoder()\n",
        "psv_redf_goals_lab_enemy_team = LabelEncoder()\n",
        "psv_redf_goals_inputs['target_team_n'] = psv_redf_goals_lab_target_team.fit_transform(psv_redf_goals_inputs['Hosts'])\n",
        "psv_redf_goals_inputs['enemy_team_n'] = psv_redf_goals_lab_enemy_team.fit_transform(psv_redf_goals_inputs['Guests'])\n",
        "psv_redf_goals_inputs.head()\n",
        "psv_redf_goals_inputs_n = psv_redf_goals_inputs.drop(['Hosts','Guests'],axis = 'columns')\n",
        "psv_redf_goals_model = tree.DecisionTreeClassifier()\n",
        "psv_redf_goals_model.fit(psv_redf_goals_inputs_n, psv_redf_goals_target)\n",
        "psv_redf_goals_model.score(psv_redf_goals_inputs_n, psv_redf_goals_target)"
      ]
    },
    {
      "cell_type": "markdown",
      "metadata": {},
      "source": [
        "**PSC Eindhoven vs. Ajax** <br> PSV - host, Ajax - guest <br> Given: PSV reveives at least one red flag. <br> Prediction says PSV Eindhoven will win the match (with an accuracy of 81%)"
      ]
    },
    {
      "cell_type": "code",
      "execution_count": 22,
      "metadata": {},
      "outputs": [
        {
          "name": "stderr",
          "output_type": "stream",
          "text": [
            "C:\\Users\\Lenovo\\AppData\\Local\\Programs\\Python\\Python310\\lib\\site-packages\\sklearn\\base.py:450: UserWarning: X does not have valid feature names, but DecisionTreeClassifier was fitted with feature names\n",
            "  warnings.warn(\n"
          ]
        },
        {
          "data": {
            "text/plain": [
              "array(['psv-eindhoven'], dtype=object)"
            ]
          },
          "execution_count": 22,
          "metadata": {},
          "output_type": "execute_result"
        }
      ],
      "source": [
        "psv_redf_goals_model.predict([[0,1]])"
      ]
    },
    {
      "cell_type": "markdown",
      "metadata": {},
      "source": [
        ">**<h4>PSV Eindhoven hosing. Chance of winnig agains Ajax given having NOT received a red flag<h4>**"
      ]
    },
    {
      "cell_type": "code",
      "execution_count": 23,
      "metadata": {},
      "outputs": [],
      "source": [
        "df_PSVHostPSVWinPSVNoCards = df_ScoresForPSVHost.loc[df_ScoresForPSVHost['Red_cards_Host'] == 0]"
      ]
    },
    {
      "cell_type": "code",
      "execution_count": 24,
      "metadata": {},
      "outputs": [
        {
          "data": {
            "text/plain": [
              "0.7480547357123692"
            ]
          },
          "execution_count": 24,
          "metadata": {},
          "output_type": "execute_result"
        }
      ],
      "source": [
        "psv_no_redf_goals_inputs = df_PSVHostPSVWinPSVNoCards.drop(['Team scored a goal', 'Season', 'Red_cards_Host'], axis = 'columns')\n",
        "psv_no_redf_goals_target = df_PSVHostPSVWinPSVNoCards['Team scored a goal']\n",
        "psv_no_redf_goals_lab_target_team = LabelEncoder()\n",
        "psv_no_redf_goals_lab_enemy_team = LabelEncoder()\n",
        "psv_no_redf_goals_lab_type_of_card = LabelEncoder()\n",
        "psv_no_redf_goals_inputs['target_team_n'] = psv_no_redf_goals_lab_target_team.fit_transform(psv_no_redf_goals_inputs['Hosts'])\n",
        "psv_no_redf_goals_inputs['enemy_team_n'] = psv_no_redf_goals_lab_target_team.fit_transform(psv_no_redf_goals_inputs['Guests'])\n",
        "psv_no_redf_goals_inputs.head()\n",
        "psv_no_redf_goals_inputs_n = psv_no_redf_goals_inputs.drop(['Hosts','Guests'],axis = 'columns')\n",
        "psv_no_redf_goals_model = tree.DecisionTreeClassifier()\n",
        "psv_no_redf_goals_model.fit(psv_no_redf_goals_inputs_n, psv_no_redf_goals_target)\n",
        "psv_no_redf_goals_model.score(psv_no_redf_goals_inputs_n, psv_no_redf_goals_target)"
      ]
    },
    {
      "cell_type": "markdown",
      "metadata": {},
      "source": [
        "**PSC Eindhoven vs. Ajax** <br> PSV - host, Ajax - guest <br> Given: PSV does **NOT** receive a red flag during the game. <br> Prediction says PSV Eindhoven will win the match (with an accuracy of 75%)"
      ]
    },
    {
      "cell_type": "code",
      "execution_count": 25,
      "metadata": {},
      "outputs": [
        {
          "name": "stderr",
          "output_type": "stream",
          "text": [
            "C:\\Users\\Lenovo\\AppData\\Local\\Programs\\Python\\Python310\\lib\\site-packages\\sklearn\\base.py:450: UserWarning: X does not have valid feature names, but DecisionTreeClassifier was fitted with feature names\n",
            "  warnings.warn(\n"
          ]
        },
        {
          "data": {
            "text/plain": [
              "array(['psv-eindhoven'], dtype=object)"
            ]
          },
          "execution_count": 25,
          "metadata": {},
          "output_type": "execute_result"
        }
      ],
      "source": [
        "psv_no_redf_goals_model.predict([[0,1]])"
      ]
    },
    {
      "cell_type": "markdown",
      "metadata": {},
      "source": [
        ">**<h4>PSV vs. Ajax. Winning predictions<h4>**"
      ]
    },
    {
      "cell_type": "code",
      "execution_count": 26,
      "metadata": {},
      "outputs": [],
      "source": [
        "%store -r df_ScoresForAjaxHost\n",
        "%store -r df_goalsPredictionCambuurHost"
      ]
    },
    {
      "cell_type": "code",
      "execution_count": 27,
      "metadata": {},
      "outputs": [
        {
          "name": "stderr",
          "output_type": "stream",
          "text": [
            "C:\\Users\\Lenovo\\AppData\\Local\\Temp\\ipykernel_8768\\1837032764.py:8: SettingWithCopyWarning: \n",
            "A value is trying to be set on a copy of a slice from a DataFrame.\n",
            "Try using .loc[row_indexer,col_indexer] = value instead\n",
            "\n",
            "See the caveats in the documentation: https://pandas.pydata.org/pandas-docs/stable/user_guide/indexing.html#returning-a-view-versus-a-copy\n",
            "  X[\"Target_team_host\"] = ajax_host_lab_target.fit_transform(X['Target_team_host'])\n",
            "C:\\Users\\Lenovo\\AppData\\Local\\Temp\\ipykernel_8768\\1837032764.py:9: SettingWithCopyWarning: \n",
            "A value is trying to be set on a copy of a slice from a DataFrame.\n",
            "Try using .loc[row_indexer,col_indexer] = value instead\n",
            "\n",
            "See the caveats in the documentation: https://pandas.pydata.org/pandas-docs/stable/user_guide/indexing.html#returning-a-view-versus-a-copy\n",
            "  X[\"Enemy_team_guest\"] = ajax_host_lab_enemy_team.fit_transform(X['Enemy_team_guest'])\n",
            "C:\\Users\\Lenovo\\AppData\\Local\\Temp\\ipykernel_8768\\1837032764.py:10: SettingWithCopyWarning: \n",
            "A value is trying to be set on a copy of a slice from a DataFrame.\n",
            "Try using .loc[row_indexer,col_indexer] = value instead\n",
            "\n",
            "See the caveats in the documentation: https://pandas.pydata.org/pandas-docs/stable/user_guide/indexing.html#returning-a-view-versus-a-copy\n",
            "  X[\"Stadium\"] = ajax_host_lab_stadium.fit_transform(X['Stadium'])\n"
          ]
        },
        {
          "data": {
            "text/plain": [
              "0.898428053204353"
            ]
          },
          "execution_count": 27,
          "metadata": {},
          "output_type": "execute_result"
        }
      ],
      "source": [
        "ajax_host_lab_target = LabelEncoder()\n",
        "ajax_host_lab_enemy_team = LabelEncoder()\n",
        "ajax_host_lab_stadium = LabelEncoder()\n",
        "from sklearn.model_selection import train_test_split\n",
        "X = df_ScoresForAjaxHost[[\"Target_team_host\",\"Enemy_team_guest\",\"Target_team_scores_host\", \"Stadium\"]]\n",
        "y = df_ScoresForAjaxHost[\"Winning_team\"]\n",
        "\n",
        "X[\"Target_team_host\"] = ajax_host_lab_target.fit_transform(X['Target_team_host'])\n",
        "X[\"Enemy_team_guest\"] = ajax_host_lab_enemy_team.fit_transform(X['Enemy_team_guest'])\n",
        "X[\"Stadium\"] = ajax_host_lab_stadium.fit_transform(X['Stadium'])\n",
        "\n",
        "X_train, X_test, y_train, y_test = train_test_split(X, y, test_size=0.20, random_state=1)\n",
        "winning_team_ajax_host = tree.DecisionTreeClassifier()\n",
        "winning_team_ajax_host.fit(X_train,y_train)\n",
        "winning_team_ajax_host.score(X_train,y_train)"
      ]
    },
    {
      "cell_type": "code",
      "execution_count": 28,
      "metadata": {},
      "outputs": [
        {
          "name": "stderr",
          "output_type": "stream",
          "text": [
            "C:\\Users\\Lenovo\\AppData\\Local\\Programs\\Python\\Python310\\lib\\site-packages\\sklearn\\base.py:450: UserWarning: X does not have valid feature names, but DecisionTreeClassifier was fitted with feature names\n",
            "  warnings.warn(\n"
          ]
        },
        {
          "data": {
            "text/plain": [
              "array([1], dtype=int64)"
            ]
          },
          "execution_count": 28,
          "metadata": {},
          "output_type": "execute_result"
        }
      ],
      "source": [
        "winning_team_ajax_host.predict([[0,1,4,2]])"
      ]
    },
    {
      "cell_type": "code",
      "execution_count": 29,
      "metadata": {},
      "outputs": [
        {
          "name": "stderr",
          "output_type": "stream",
          "text": [
            "C:\\Users\\Lenovo\\AppData\\Local\\Temp\\ipykernel_8768\\3179811627.py:14: SettingWithCopyWarning: \n",
            "A value is trying to be set on a copy of a slice from a DataFrame.\n",
            "Try using .loc[row_indexer,col_indexer] = value instead\n",
            "\n",
            "See the caveats in the documentation: https://pandas.pydata.org/pandas-docs/stable/user_guide/indexing.html#returning-a-view-versus-a-copy\n",
            "  Input_win_prediction[\"Target_team_host\"] = sc_cambuur_host_lbl.fit_transform(Input_win_prediction['Target_team_host'])\n",
            "C:\\Users\\Lenovo\\AppData\\Local\\Temp\\ipykernel_8768\\3179811627.py:15: SettingWithCopyWarning: \n",
            "A value is trying to be set on a copy of a slice from a DataFrame.\n",
            "Try using .loc[row_indexer,col_indexer] = value instead\n",
            "\n",
            "See the caveats in the documentation: https://pandas.pydata.org/pandas-docs/stable/user_guide/indexing.html#returning-a-view-versus-a-copy\n",
            "  Input_win_prediction[\"Enemy_team_guest\"] = enemy_team_sc_cambuur_host_lbl.fit_transform(Input_win_prediction['Enemy_team_guest'])\n",
            "C:\\Users\\Lenovo\\AppData\\Local\\Temp\\ipykernel_8768\\3179811627.py:16: SettingWithCopyWarning: \n",
            "A value is trying to be set on a copy of a slice from a DataFrame.\n",
            "Try using .loc[row_indexer,col_indexer] = value instead\n",
            "\n",
            "See the caveats in the documentation: https://pandas.pydata.org/pandas-docs/stable/user_guide/indexing.html#returning-a-view-versus-a-copy\n",
            "  Input_win_prediction[\"Stadium\"] = stadium_sc_cambuur_host_lbl.fit_transform(Input_win_prediction['Stadium'])\n",
            "C:\\Users\\Lenovo\\AppData\\Local\\Temp\\ipykernel_8768\\3179811627.py:19: SettingWithCopyWarning: \n",
            "A value is trying to be set on a copy of a slice from a DataFrame.\n",
            "Try using .loc[row_indexer,col_indexer] = value instead\n",
            "\n",
            "See the caveats in the documentation: https://pandas.pydata.org/pandas-docs/stable/user_guide/indexing.html#returning-a-view-versus-a-copy\n",
            "  Input_goals_prediction[\"Target_team_host\"] = sc_cambuur_host_lbl.fit_transform(Input_win_prediction['Target_team_host'])\n",
            "C:\\Users\\Lenovo\\AppData\\Local\\Temp\\ipykernel_8768\\3179811627.py:20: SettingWithCopyWarning: \n",
            "A value is trying to be set on a copy of a slice from a DataFrame.\n",
            "Try using .loc[row_indexer,col_indexer] = value instead\n",
            "\n",
            "See the caveats in the documentation: https://pandas.pydata.org/pandas-docs/stable/user_guide/indexing.html#returning-a-view-versus-a-copy\n",
            "  Input_goals_prediction[\"Enemy_team_guest\"] = enemy_team_sc_cambuur_host_lbl.fit_transform(Input_win_prediction['Enemy_team_guest'])\n",
            "C:\\Users\\Lenovo\\AppData\\Local\\Temp\\ipykernel_8768\\3179811627.py:21: SettingWithCopyWarning: \n",
            "A value is trying to be set on a copy of a slice from a DataFrame.\n",
            "Try using .loc[row_indexer,col_indexer] = value instead\n",
            "\n",
            "See the caveats in the documentation: https://pandas.pydata.org/pandas-docs/stable/user_guide/indexing.html#returning-a-view-versus-a-copy\n",
            "  Input_goals_prediction[\"Stadium\"] = stadium_sc_cambuur_host_lbl.fit_transform(Input_win_prediction['Stadium'])\n"
          ]
        },
        {
          "data": {
            "text/plain": [
              "0.6984126984126984"
            ]
          },
          "execution_count": 29,
          "metadata": {},
          "output_type": "execute_result"
        }
      ],
      "source": [
        "sc_cambuur_host_lbl = LabelEncoder()\n",
        "enemy_team_sc_cambuur_host_lbl = LabelEncoder()\n",
        "stadium_sc_cambuur_host_lbl = LabelEncoder()\n",
        "from sklearn.model_selection import train_test_split\n",
        "#Win prediction\n",
        "Input_win_prediction = df_goalsPredictionCambuurHost[[\"Target_team_host\",\"Enemy_team_guest\", \"Stadium\"]]\n",
        "Prediction_of_win = df_goalsPredictionCambuurHost[\"Winning_team\"]\n",
        "\n",
        "#Goals prediction\n",
        "Input_goals_prediction = df_goalsPredictionCambuurHost[[\"Target_team_host\",\"Enemy_team_guest\", \"Enemy_team_scores_guest\", \"Stadium\"]]\n",
        "Prediction_of_goals = df_goalsPredictionCambuurHost[\"Target_team_scores_host\"]\n",
        "\n",
        "#Win prediction\n",
        "Input_win_prediction[\"Target_team_host\"] = sc_cambuur_host_lbl.fit_transform(Input_win_prediction['Target_team_host'])\n",
        "Input_win_prediction[\"Enemy_team_guest\"] = enemy_team_sc_cambuur_host_lbl.fit_transform(Input_win_prediction['Enemy_team_guest'])\n",
        "Input_win_prediction[\"Stadium\"] = stadium_sc_cambuur_host_lbl.fit_transform(Input_win_prediction['Stadium'])\n",
        "\n",
        "#Goals prediction\n",
        "Input_goals_prediction[\"Target_team_host\"] = sc_cambuur_host_lbl.fit_transform(Input_win_prediction['Target_team_host'])\n",
        "Input_goals_prediction[\"Enemy_team_guest\"] = enemy_team_sc_cambuur_host_lbl.fit_transform(Input_win_prediction['Enemy_team_guest'])\n",
        "Input_goals_prediction[\"Stadium\"] = stadium_sc_cambuur_host_lbl.fit_transform(Input_win_prediction['Stadium'])\n",
        "\n",
        "Input_win_train, Input_win_test, prediction_win_train, prediction_win_test = train_test_split(Input_win_prediction, Prediction_of_win, test_size=0.20, random_state=1)\n",
        "Input_goals_train, Input_goals_test, prediction_goals_train, prediction_goals_test = train_test_split(Input_goals_prediction, Prediction_of_goals, test_size=0.20, random_state=1)\n",
        "winning_team_sc_cambuur_host = tree.DecisionTreeClassifier()\n",
        "winning_team_sc_cambuur_host.fit(Input_win_train,prediction_win_train)\n",
        "winning_team_sc_cambuur_host.score(Input_win_train,prediction_win_train)"
      ]
    },
    {
      "cell_type": "markdown",
      "metadata": {},
      "source": [
        "- **SC-CAMBUUR label = 0**\n",
        "- **rkc-waalwijk = 19**\n",
        "- **cambuur-stadium-leuwarden = 0**\t"
      ]
    },
    {
      "cell_type": "code",
      "execution_count": 30,
      "metadata": {},
      "outputs": [
        {
          "name": "stderr",
          "output_type": "stream",
          "text": [
            "C:\\Users\\Lenovo\\AppData\\Local\\Programs\\Python\\Python310\\lib\\site-packages\\sklearn\\base.py:450: UserWarning: X does not have valid feature names, but DecisionTreeClassifier was fitted with feature names\n",
            "  warnings.warn(\n"
          ]
        },
        {
          "data": {
            "text/plain": [
              "array([-1], dtype=int64)"
            ]
          },
          "execution_count": 30,
          "metadata": {},
          "output_type": "execute_result"
        }
      ],
      "source": [
        "#If sc_cambuur is playing on their own stadium, prediction says they will lose (with an accuracy of 69%)\n",
        "winning_team_sc_cambuur_host.predict([[0,19,0]])"
      ]
    },
    {
      "cell_type": "code",
      "execution_count": 31,
      "metadata": {},
      "outputs": [
        {
          "data": {
            "text/plain": [
              "0.8571428571428571"
            ]
          },
          "execution_count": 31,
          "metadata": {},
          "output_type": "execute_result"
        }
      ],
      "source": [
        "goals_of_sc_cambuur_host = tree.DecisionTreeClassifier()\n",
        "goals_of_sc_cambuur_host.fit(Input_goals_train,prediction_goals_train)\n",
        "goals_of_sc_cambuur_host.score(Input_goals_train,prediction_goals_train)"
      ]
    },
    {
      "cell_type": "code",
      "execution_count": 32,
      "metadata": {},
      "outputs": [
        {
          "name": "stderr",
          "output_type": "stream",
          "text": [
            "C:\\Users\\Lenovo\\AppData\\Local\\Programs\\Python\\Python310\\lib\\site-packages\\sklearn\\base.py:450: UserWarning: X does not have valid feature names, but DecisionTreeClassifier was fitted with feature names\n",
            "  warnings.warn(\n",
            "C:\\Users\\Lenovo\\AppData\\Local\\Programs\\Python\\Python310\\lib\\site-packages\\sklearn\\base.py:450: UserWarning: X does not have valid feature names, but DecisionTreeClassifier was fitted with feature names\n",
            "  warnings.warn(\n",
            "C:\\Users\\Lenovo\\AppData\\Local\\Programs\\Python\\Python310\\lib\\site-packages\\sklearn\\base.py:450: UserWarning: X does not have valid feature names, but DecisionTreeClassifier was fitted with feature names\n",
            "  warnings.warn(\n",
            "C:\\Users\\Lenovo\\AppData\\Local\\Programs\\Python\\Python310\\lib\\site-packages\\sklearn\\base.py:450: UserWarning: X does not have valid feature names, but DecisionTreeClassifier was fitted with feature names\n",
            "  warnings.warn(\n",
            "C:\\Users\\Lenovo\\AppData\\Local\\Programs\\Python\\Python310\\lib\\site-packages\\sklearn\\base.py:450: UserWarning: X does not have valid feature names, but DecisionTreeClassifier was fitted with feature names\n",
            "  warnings.warn(\n"
          ]
        },
        {
          "data": {
            "text/html": [
              "<div>\n",
              "<style scoped>\n",
              "    .dataframe tbody tr th:only-of-type {\n",
              "        vertical-align: middle;\n",
              "    }\n",
              "\n",
              "    .dataframe tbody tr th {\n",
              "        vertical-align: top;\n",
              "    }\n",
              "\n",
              "    .dataframe thead th {\n",
              "        text-align: right;\n",
              "    }\n",
              "</style>\n",
              "<table border=\"1\" class=\"dataframe\">\n",
              "  <thead>\n",
              "    <tr style=\"text-align: right;\">\n",
              "      <th></th>\n",
              "      <th>Rkc-scores-0</th>\n",
              "      <th>Rkc-scores-1</th>\n",
              "      <th>Rkc-scores-2</th>\n",
              "      <th>Rkc-scores-3</th>\n",
              "      <th>Rkc-scores-4</th>\n",
              "    </tr>\n",
              "  </thead>\n",
              "  <tbody>\n",
              "    <tr>\n",
              "      <th>0</th>\n",
              "      <td>1</td>\n",
              "      <td>1</td>\n",
              "      <td>0</td>\n",
              "      <td>1</td>\n",
              "      <td>1</td>\n",
              "    </tr>\n",
              "  </tbody>\n",
              "</table>\n",
              "</div>"
            ],
            "text/plain": [
              "  Rkc-scores-0 Rkc-scores-1 Rkc-scores-2 Rkc-scores-3 Rkc-scores-4\n",
              "0            1            1            0            1            1"
            ]
          },
          "execution_count": 32,
          "metadata": {},
          "output_type": "execute_result"
        }
      ],
      "source": [
        "#Different outcomes for possible goals that sc_cambuur could have against rkc-waalwijk\n",
        "goals_prediction_sc_cambuur = pd.DataFrame()\n",
        "\n",
        "goals_prediction_sc_cambuur['Rkc-scores-0'] = goals_of_sc_cambuur_host.predict([[0,19,0,0]])\n",
        "goals_prediction_sc_cambuur['Rkc-scores-1'] = goals_of_sc_cambuur_host.predict([[0,19,1,0]])\n",
        "goals_prediction_sc_cambuur['Rkc-scores-2'] = goals_of_sc_cambuur_host.predict([[0,19,2,0]])\n",
        "goals_prediction_sc_cambuur['Rkc-scores-3'] = goals_of_sc_cambuur_host.predict([[0,19,3,0]])\n",
        "goals_prediction_sc_cambuur['Rkc-scores-4'] = goals_of_sc_cambuur_host.predict([[0,19,4,0]])\n",
        "goals_prediction_sc_cambuur"
      ]
    },
    {
      "cell_type": "markdown",
      "metadata": {},
      "source": [
        ">**<h4>All *teams* that gets a card, sorted by seasons and type of cards**"
      ]
    },
    {
      "cell_type": "code",
      "execution_count": 33,
      "metadata": {},
      "outputs": [
        {
          "name": "stderr",
          "output_type": "stream",
          "text": [
            "C:\\Users\\Lenovo\\AppData\\Local\\Temp\\ipykernel_8768\\3986954391.py:12: SettingWithCopyWarning: \n",
            "A value is trying to be set on a copy of a slice from a DataFrame.\n",
            "Try using .loc[row_indexer,col_indexer] = value instead\n",
            "\n",
            "See the caveats in the documentation: https://pandas.pydata.org/pandas-docs/stable/user_guide/indexing.html#returning-a-view-versus-a-copy\n",
            "  Input_Card_Prediction[\"Target_team_host\"] = target_team_label.fit_transform(Input_Card_Prediction['Target_team_host'])\n",
            "C:\\Users\\Lenovo\\AppData\\Local\\Temp\\ipykernel_8768\\3986954391.py:13: SettingWithCopyWarning: \n",
            "A value is trying to be set on a copy of a slice from a DataFrame.\n",
            "Try using .loc[row_indexer,col_indexer] = value instead\n",
            "\n",
            "See the caveats in the documentation: https://pandas.pydata.org/pandas-docs/stable/user_guide/indexing.html#returning-a-view-versus-a-copy\n",
            "  Input_Card_Prediction[\"Enemy_team_guest\"] = enemy_team_label.fit_transform(Input_Card_Prediction['Enemy_team_guest'])\n"
          ]
        },
        {
          "data": {
            "text/plain": [
              "0.6122788681144273"
            ]
          },
          "execution_count": 33,
          "metadata": {},
          "output_type": "execute_result"
        }
      ],
      "source": [
        "%store -r df_CardsPrediction\n",
        "target_team_label = LabelEncoder()\n",
        "enemy_team_label = LabelEncoder()\n",
        "team_with_card_label = LabelEncoder()\n",
        "type_of_card_label = LabelEncoder()\n",
        "from sklearn.model_selection import train_test_split\n",
        "#Cards prediction\n",
        "Input_Card_Prediction = df_CardsPrediction[[\"Target_team_host\",\"Enemy_team_guest\"]]\n",
        "Prediction_of_cards = df_CardsPrediction[\"Team_with_card\"]\n",
        "\n",
        "#Cards prediction\n",
        "Input_Card_Prediction[\"Target_team_host\"] = target_team_label.fit_transform(Input_Card_Prediction['Target_team_host'])\n",
        "Input_Card_Prediction[\"Enemy_team_guest\"] = enemy_team_label.fit_transform(Input_Card_Prediction['Enemy_team_guest'])\n",
        "\n",
        "Input_card_train, Input_card_test, prediction_card_train, prediction_card_test = train_test_split(Input_Card_Prediction, Prediction_of_cards, test_size=0.20, random_state=1)\n",
        "model_prediction_of_cards = tree.DecisionTreeClassifier()\n",
        "model_prediction_of_cards.fit(Input_card_train,prediction_card_train)\n",
        "model_prediction_of_cards.score(Input_card_train,prediction_card_train)"
      ]
    },
    {
      "cell_type": "code",
      "execution_count": 34,
      "metadata": {},
      "outputs": [
        {
          "name": "stderr",
          "output_type": "stream",
          "text": [
            "C:\\Users\\Lenovo\\AppData\\Local\\Programs\\Python\\Python310\\lib\\site-packages\\sklearn\\base.py:450: UserWarning: X does not have valid feature names, but DecisionTreeClassifier was fitted with feature names\n",
            "  warnings.warn(\n"
          ]
        },
        {
          "data": {
            "text/plain": [
              "array(['feyenoord'], dtype=object)"
            ]
          },
          "execution_count": 34,
          "metadata": {},
          "output_type": "execute_result"
        }
      ],
      "source": [
        "model_prediction_of_cards.predict([[38,14]])"
      ]
    },
    {
      "cell_type": "markdown",
      "metadata": {},
      "source": [
        ">**<h4>If Ajax is host, *teams* that gets a card, sorted by seasons and type of cards**"
      ]
    },
    {
      "cell_type": "code",
      "execution_count": 35,
      "metadata": {},
      "outputs": [
        {
          "name": "stderr",
          "output_type": "stream",
          "text": [
            "C:\\Users\\Lenovo\\AppData\\Local\\Temp\\ipykernel_8768\\769672210.py:13: SettingWithCopyWarning: \n",
            "A value is trying to be set on a copy of a slice from a DataFrame.\n",
            "Try using .loc[row_indexer,col_indexer] = value instead\n",
            "\n",
            "See the caveats in the documentation: https://pandas.pydata.org/pandas-docs/stable/user_guide/indexing.html#returning-a-view-versus-a-copy\n",
            "  Input_All_Teams_Goals_Prediction[\"Target_team_host\"] = target_team_goals_label.fit_transform(Input_All_Teams_Goals_Prediction['Target_team_host'])\n",
            "C:\\Users\\Lenovo\\AppData\\Local\\Temp\\ipykernel_8768\\769672210.py:14: SettingWithCopyWarning: \n",
            "A value is trying to be set on a copy of a slice from a DataFrame.\n",
            "Try using .loc[row_indexer,col_indexer] = value instead\n",
            "\n",
            "See the caveats in the documentation: https://pandas.pydata.org/pandas-docs/stable/user_guide/indexing.html#returning-a-view-versus-a-copy\n",
            "  Input_All_Teams_Goals_Prediction[\"Enemy_team_guest\"] = enemy_team_goals_label.fit_transform(Input_All_Teams_Goals_Prediction['Enemy_team_guest'])\n"
          ]
        },
        {
          "data": {
            "text/plain": [
              "0.5911168329578371"
            ]
          },
          "execution_count": 35,
          "metadata": {},
          "output_type": "execute_result"
        }
      ],
      "source": [
        "%store -r df_goals_prediction_all_teams\n",
        "target_team_goals_label = LabelEncoder()\n",
        "enemy_team_goals_label = LabelEncoder()\n",
        "scores_target_team_label = LabelEncoder()\n",
        "enemy_scores_label = LabelEncoder()\n",
        "hosting_stadium_label = LabelEncoder()\n",
        "from sklearn.model_selection import train_test_split\n",
        "#Goals prediction\n",
        "Input_All_Teams_Goals_Prediction = df_goals_prediction_all_teams[[\"Target_team_host\",\"Enemy_team_guest\"]]\n",
        "Prediction_Of_All_Teams_Goals= df_goals_prediction_all_teams[\"Winning_team\"]\n",
        "\n",
        "#Goals prediction\n",
        "Input_All_Teams_Goals_Prediction[\"Target_team_host\"] = target_team_goals_label.fit_transform(Input_All_Teams_Goals_Prediction['Target_team_host'])\n",
        "Input_All_Teams_Goals_Prediction[\"Enemy_team_guest\"] = enemy_team_goals_label.fit_transform(Input_All_Teams_Goals_Prediction['Enemy_team_guest'])\n",
        "\n",
        "mappingHost = dict(zip(target_team_goals_label.classes_, range(len(target_team_goals_label.classes_))))\n",
        "mappingGuest = dict(zip(enemy_team_goals_label.classes_, range(len(enemy_team_goals_label.classes_))))\n",
        "\n",
        "Input_All_Teams_Goals_train, Input_All_Teams_Goals_test, prediction_All_Teams_Goals_train, prediction_All_Teams_Goals_test = train_test_split(Input_All_Teams_Goals_Prediction, Prediction_Of_All_Teams_Goals, test_size=0.20, random_state=1)\n",
        "def searchTeam(teams, teamName):\n",
        "    for (k,i) in teams.items():\n",
        "        if k == teamName:\n",
        "            return (k, i)\n",
        "\n",
        "searchResults = pd.DataFrame()\n",
        "hostTeam = \"psv-eindhoven\"\n",
        "enemyTeam =\"afc-ajax\"\n",
        "searchResults['Hosting_team'] = searchTeam(mappingHost,hostTeam) \n",
        "searchResults['Enemy_team'] = searchTeam(mappingGuest,enemyTeam)\n",
        "winpredict_all_teams_model = tree.DecisionTreeClassifier()\n",
        "winpredict_all_teams_model.fit(Input_All_Teams_Goals_train,prediction_All_Teams_Goals_train)\n",
        "winpredict_all_teams_model.score(Input_All_Teams_Goals_train,prediction_All_Teams_Goals_train)"
      ]
    },
    {
      "cell_type": "code",
      "execution_count": 36,
      "metadata": {},
      "outputs": [
        {
          "name": "stderr",
          "output_type": "stream",
          "text": [
            "C:\\Users\\Lenovo\\AppData\\Local\\Programs\\Python\\Python310\\lib\\site-packages\\sklearn\\base.py:450: UserWarning: X does not have valid feature names, but DecisionTreeClassifier was fitted with feature names\n",
            "  warnings.warn(\n",
            "C:\\Users\\Lenovo\\AppData\\Local\\Programs\\Python\\Python310\\lib\\site-packages\\sklearn\\base.py:450: UserWarning: X does not have valid feature names, but DecisionTreeClassifier was fitted with feature names\n",
            "  warnings.warn(\n",
            "C:\\Users\\Lenovo\\AppData\\Local\\Programs\\Python\\Python310\\lib\\site-packages\\sklearn\\base.py:450: UserWarning: X does not have valid feature names, but DecisionTreeClassifier was fitted with feature names\n",
            "  warnings.warn(\n",
            "C:\\Users\\Lenovo\\AppData\\Local\\Programs\\Python\\Python310\\lib\\site-packages\\sklearn\\base.py:450: UserWarning: X does not have valid feature names, but DecisionTreeClassifier was fitted with feature names\n",
            "  warnings.warn(\n",
            "C:\\Users\\Lenovo\\AppData\\Local\\Programs\\Python\\Python310\\lib\\site-packages\\sklearn\\base.py:450: UserWarning: X does not have valid feature names, but DecisionTreeClassifier was fitted with feature names\n",
            "  warnings.warn(\n"
          ]
        },
        {
          "data": {
            "text/html": [
              "<div>\n",
              "<style scoped>\n",
              "    .dataframe tbody tr th:only-of-type {\n",
              "        vertical-align: middle;\n",
              "    }\n",
              "\n",
              "    .dataframe tbody tr th {\n",
              "        vertical-align: top;\n",
              "    }\n",
              "\n",
              "    .dataframe thead th {\n",
              "        text-align: right;\n",
              "    }\n",
              "</style>\n",
              "<table border=\"1\" class=\"dataframe\">\n",
              "  <thead>\n",
              "    <tr style=\"text-align: right;\">\n",
              "      <th></th>\n",
              "      <th>Games</th>\n",
              "      <th>result</th>\n",
              "    </tr>\n",
              "  </thead>\n",
              "  <tbody>\n",
              "    <tr>\n",
              "      <th>0</th>\n",
              "      <td>PSV_vs_AJAX</td>\n",
              "      <td>1</td>\n",
              "    </tr>\n",
              "    <tr>\n",
              "      <th>1</th>\n",
              "      <td>PSV_vs_WILLEM</td>\n",
              "      <td>1</td>\n",
              "    </tr>\n",
              "    <tr>\n",
              "      <th>2</th>\n",
              "      <td>PSV_vs_FCGroningen</td>\n",
              "      <td>1</td>\n",
              "    </tr>\n",
              "    <tr>\n",
              "      <th>3</th>\n",
              "      <td>PSV_vs_feyenoord</td>\n",
              "      <td>1</td>\n",
              "    </tr>\n",
              "    <tr>\n",
              "      <th>4</th>\n",
              "      <td>PSV_vs_FCtwente</td>\n",
              "      <td>1</td>\n",
              "    </tr>\n",
              "  </tbody>\n",
              "</table>\n",
              "</div>"
            ],
            "text/plain": [
              "                Games  result\n",
              "0         PSV_vs_AJAX       1\n",
              "1       PSV_vs_WILLEM       1\n",
              "2  PSV_vs_FCGroningen       1\n",
              "3    PSV_vs_feyenoord       1\n",
              "4     PSV_vs_FCtwente       1"
            ]
          },
          "execution_count": 36,
          "metadata": {},
          "output_type": "execute_result"
        }
      ],
      "source": [
        "winning_teams_psv_vis = pd.DataFrame()\n",
        "\n",
        "psvVSajax = winpredict_all_teams_model.predict([[35,1]])\n",
        "psvVSwillem = winpredict_all_teams_model.predict([[35,54]])\n",
        "psvVSFCGroningen = winpredict_all_teams_model.predict([[35,16]])\n",
        "psvVSFCFeyenoord= winpredict_all_teams_model.predict([[35,21]])\n",
        "psvVSFCFCTwente = winpredict_all_teams_model.predict([[35,17]])\n",
        "\n",
        "winning_teams_psv_vis =  pd.DataFrame({'Games':['PSV_vs_AJAX', 'PSV_vs_WILLEM','PSV_vs_FCGroningen','PSV_vs_feyenoord','PSV_vs_FCtwente'], \n",
        "'result':[psvVSajax[0],psvVSwillem[0],psvVSFCGroningen[0],psvVSFCFeyenoord[0], psvVSFCFCTwente[0]]})\n",
        "\n",
        "winning_teams_psv_vis"
      ]
    },
    {
      "cell_type": "code",
      "execution_count": 37,
      "metadata": {},
      "outputs": [
        {
          "data": {
            "text/plain": [
              "<AxesSubplot:title={'center':'Goals of PSV as hosts vs different teams'}, xlabel='Games'>"
            ]
          },
          "execution_count": 37,
          "metadata": {},
          "output_type": "execute_result"
        },
        {
          "data": {
            "image/png": "[encoded data removed]",
            "text/plain": [
              "<Figure size 432x288 with 1 Axes>"
            ]
          },
          "metadata": {
            "needs_background": "light"
          },
          "output_type": "display_data"
        }
      ],
      "source": [
        "winning_teams_psv_vis.plot.bar(x=\"Games\", y=\"result\", rot=70, title=\"Goals of PSV as hosts vs different teams\")"
      ]
    },
    {
      "cell_type": "code",
      "execution_count": 38,
      "metadata": {},
      "outputs": [
        {
          "name": "stderr",
          "output_type": "stream",
          "text": [
            "C:\\Users\\Lenovo\\AppData\\Local\\Programs\\Python\\Python310\\lib\\site-packages\\sklearn\\base.py:450: UserWarning: X does not have valid feature names, but DecisionTreeClassifier was fitted with feature names\n",
            "  warnings.warn(\n",
            "C:\\Users\\Lenovo\\AppData\\Local\\Programs\\Python\\Python310\\lib\\site-packages\\sklearn\\base.py:450: UserWarning: X does not have valid feature names, but DecisionTreeClassifier was fitted with feature names\n",
            "  warnings.warn(\n",
            "C:\\Users\\Lenovo\\AppData\\Local\\Programs\\Python\\Python310\\lib\\site-packages\\sklearn\\base.py:450: UserWarning: X does not have valid feature names, but DecisionTreeClassifier was fitted with feature names\n",
            "  warnings.warn(\n",
            "C:\\Users\\Lenovo\\AppData\\Local\\Programs\\Python\\Python310\\lib\\site-packages\\sklearn\\base.py:450: UserWarning: X does not have valid feature names, but DecisionTreeClassifier was fitted with feature names\n",
            "  warnings.warn(\n",
            "C:\\Users\\Lenovo\\AppData\\Local\\Programs\\Python\\Python310\\lib\\site-packages\\sklearn\\base.py:450: UserWarning: X does not have valid feature names, but DecisionTreeClassifier was fitted with feature names\n",
            "  warnings.warn(\n"
          ]
        },
        {
          "data": {
            "text/html": [
              "<div>\n",
              "<style scoped>\n",
              "    .dataframe tbody tr th:only-of-type {\n",
              "        vertical-align: middle;\n",
              "    }\n",
              "\n",
              "    .dataframe tbody tr th {\n",
              "        vertical-align: top;\n",
              "    }\n",
              "\n",
              "    .dataframe thead th {\n",
              "        text-align: right;\n",
              "    }\n",
              "</style>\n",
              "<table border=\"1\" class=\"dataframe\">\n",
              "  <thead>\n",
              "    <tr style=\"text-align: right;\">\n",
              "      <th></th>\n",
              "      <th>Games</th>\n",
              "      <th>result</th>\n",
              "    </tr>\n",
              "  </thead>\n",
              "  <tbody>\n",
              "    <tr>\n",
              "      <th>0</th>\n",
              "      <td>Ajax_vs_PSV</td>\n",
              "      <td>1</td>\n",
              "    </tr>\n",
              "    <tr>\n",
              "      <th>1</th>\n",
              "      <td>Ajax_vs_WILLEM</td>\n",
              "      <td>1</td>\n",
              "    </tr>\n",
              "    <tr>\n",
              "      <th>2</th>\n",
              "      <td>Ajax_vs_FCGroningen</td>\n",
              "      <td>1</td>\n",
              "    </tr>\n",
              "    <tr>\n",
              "      <th>3</th>\n",
              "      <td>Ajax_vs_feyenoord</td>\n",
              "      <td>1</td>\n",
              "    </tr>\n",
              "    <tr>\n",
              "      <th>4</th>\n",
              "      <td>Ajax_vs_FCtwente</td>\n",
              "      <td>1</td>\n",
              "    </tr>\n",
              "  </tbody>\n",
              "</table>\n",
              "</div>"
            ],
            "text/plain": [
              "                 Games  result\n",
              "0          Ajax_vs_PSV       1\n",
              "1       Ajax_vs_WILLEM       1\n",
              "2  Ajax_vs_FCGroningen       1\n",
              "3    Ajax_vs_feyenoord       1\n",
              "4     Ajax_vs_FCtwente       1"
            ]
          },
          "execution_count": 38,
          "metadata": {},
          "output_type": "execute_result"
        }
      ],
      "source": [
        "winning_teams_ajax_vis = pd.DataFrame()\n",
        "\n",
        "ajaxVSpsv = winpredict_all_teams_model.predict([[1,36]])\n",
        "ajaxVSWillem = winpredict_all_teams_model.predict([[1,54]])\n",
        "ajaxVSFCGroningen = winpredict_all_teams_model.predict([[1,16]])\n",
        "ajaxVSFCFeyenoord= winpredict_all_teams_model.predict([[1,21]])\n",
        "ajaxVSFCFCTwente = winpredict_all_teams_model.predict([[1,17]])\n",
        "\n",
        "winning_teams_ajax_vis =  pd.DataFrame({'Games':['Ajax_vs_PSV', 'Ajax_vs_WILLEM','Ajax_vs_FCGroningen','Ajax_vs_feyenoord','Ajax_vs_FCtwente'], \n",
        "'result':[ajaxVSpsv[0],ajaxVSWillem[0],ajaxVSFCGroningen[0],ajaxVSFCFeyenoord[0], ajaxVSFCFCTwente[0]]})\n",
        "\n",
        "winning_teams_ajax_vis"
      ]
    },
    {
      "cell_type": "code",
      "execution_count": 39,
      "metadata": {},
      "outputs": [
        {
          "data": {
            "text/plain": [
              "<AxesSubplot:title={'center':'Goals of Ajax as hosts vs different teams'}, xlabel='Games'>"
            ]
          },
          "execution_count": 39,
          "metadata": {},
          "output_type": "execute_result"
        },
        {
          "data": {
            "image/png": "[encoded data removed]",
            "text/plain": [
              "<Figure size 432x288 with 1 Axes>"
            ]
          },
          "metadata": {
            "needs_background": "light"
          },
          "output_type": "display_data"
        }
      ],
      "source": [
        "winning_teams_ajax_vis.plot.bar(x=\"Games\", y=\"result\", rot=70, title=\"Goals of Ajax as hosts vs different teams\")"
      ]
    }
  ],
  "metadata": {
    "colab": {
      "collapsed_sections": [],
      "name": "game_prediction.ipynb",
      "provenance": [],
      "toc_visible": true
    },
    "kernelspec": {
      "display_name": "Python 3",
      "name": "python3"
    },
    "language_info": {
      "codemirror_mode": {
        "name": "ipython",
        "version": 3
      },
      "file_extension": ".py",
      "mimetype": "text/x-python",
      "name": "python",
      "nbconvert_exporter": "python",
      "pygments_lexer": "ipython3",
      "version": "3.10.2"
    }
  },
  "nbformat": 4,
  "nbformat_minor": 0
}
